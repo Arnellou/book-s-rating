{
  "cells": [
    {
      "cell_type": "code",
      "source": [
        "# Enable the colab extension that renders pandas dataframes into interactive displays\n",
        "# from google.colab import data_table\n",
        "# data_table.enable_dataframe_formatter()"
      ],
      "metadata": {
        "id": "JwPmWLXraoYc"
      },
      "execution_count": 1,
      "outputs": []
    },
    {
      "cell_type": "code",
      "execution_count": 2,
      "outputs": [
        {
          "output_type": "stream",
          "name": "stdout",
          "text": [
            "1.5.3\n"
          ]
        }
      ],
      "source": [
        "import pandas as pd\n",
        "import numpy as np\n",
        "import seaborn as sns\n",
        "import re\n",
        "import matplotlib.pyplot as plt\n",
        "print(pd.__version__)"
      ],
      "metadata": {
        "id": "3ZsYW4C0ui_h",
        "colab": {
          "base_uri": "https://localhost:8080/"
        },
        "outputId": "7e2288b5-95aa-4968-9e83-f080850c7e0b"
      }
    },
    {
      "cell_type": "code",
      "source": [
        "import os\n",
        "pwd = os.getcwd()  # Show current working directory"
      ],
      "metadata": {
        "id": "kbpZcQzQdxh2"
      },
      "execution_count": 3,
      "outputs": []
    },
    {
      "cell_type": "markdown",
      "source": [
        "# Data Pre-Processing"
      ],
      "metadata": {
        "collapsed": false,
        "id": "HdI2boR6ui_d"
      }
    },
    {
      "cell_type": "markdown",
      "source": [
        "### Convert .csv file to pands.DataFrame"
      ],
      "metadata": {
        "collapsed": false,
        "id": "fy3euceCui_j"
      }
    },
    {
      "cell_type": "code",
      "execution_count": 4,
      "outputs": [
        {
          "output_type": "stream",
          "name": "stderr",
          "text": [
            "Skipping line 3350: expected 12 fields, saw 13\n",
            "Skipping line 4704: expected 12 fields, saw 13\n",
            "Skipping line 5879: expected 12 fields, saw 13\n",
            "Skipping line 8981: expected 12 fields, saw 13\n",
            "\n"
          ]
        }
      ],
      "source": [
        "df_book = pd.read_csv(pwd + \"//sample_data//books.csv\", sep=\",\", encoding=\"utf-8\", on_bad_lines=\"warn\", index_col=\"bookID\")\n",
        "# Modify the path when the notebook is run in your own Google Colab account or on a local computer"
      ],
      "metadata": {
        "id": "Fy7b34dwui_k",
        "colab": {
          "base_uri": "https://localhost:8080/"
        },
        "outputId": "34d9e851-4913-4f70-e154-5e9efca7ad44"
      }
    },
    {
      "cell_type": "markdown",
      "source": [
        "The attribute (column) \"bookID\" is used as the row index (row name).\n",
        "Here it can be seen that 4 \"bad lines\" has been skipped when converting the .csv file to pandas.DataFrame. Because these lines have 13 attributes while normal lines have 12 attributes, so it is reasonable to remove these 4 bad records. We checked each of these lines and found that all errors are caused by author names containing a comma. Therefore, we used double quote to surround these author name so that `pandas.read_csv()` doesn't identify comma in author name as a delimiter."
      ],
      "metadata": {
        "collapsed": false,
        "id": "USnVt1ayui_k"
      }
    },
    {
      "cell_type": "code",
      "source": [
        "badline = [3350, 4704, 5879, 8981]\n",
        "df_book = pd.read_csv(pwd + \"//sample_data//books_corrected.csv\", sep=\",\", encoding=\"utf-8\", on_bad_lines=\"warn\", index_col=\"bookID\", quotechar='\"')\n",
        "df_book.iloc[[x-2 for x in badline]]    # Show corrected \"bad lines\""
      ],
      "metadata": {
        "colab": {
          "base_uri": "https://localhost:8080/",
          "height": 379
        },
        "id": "fOcKdVGTywII",
        "outputId": "04580dab-d9b4-48c6-be0a-fa67f3055d54"
      },
      "execution_count": 5,
      "outputs": [
        {
          "output_type": "execute_result",
          "data": {
            "text/plain": [
              "                                                    title  \\\n",
              "bookID                                                      \n",
              "12224   Streetcar Suburbs: The Process of Growth in Bo...   \n",
              "16914                   The Tolkien Fan's Medieval Reader   \n",
              "22128                      Patriots (The Coming Collapse)   \n",
              "34889   Brown's Star Atlas: Showing All The Bright Sta...   \n",
              "\n",
              "                                   authors  average_rating        isbn  \\\n",
              "bookID                                                                   \n",
              "12224   Sam Bass Warner, Jr./Sam B. Warner            3.58  0674842111   \n",
              "16914        David E. Smith/Verlyn Flieger            3.58  1593600119   \n",
              "22128                 James Wesley, Rawles            3.63  156384155X   \n",
              "34889                Brown, Son & Ferguson            0.00  0851742718   \n",
              "\n",
              "               isbn13 language_code    num_pages  ratings_count  \\\n",
              "bookID                                                            \n",
              "12224   9780674842113         en-US          236             61   \n",
              "16914   9781593600112           eng          400             26   \n",
              "22128   9781563841552           eng          342             38   \n",
              "34889   9780851742717           eng           49              0   \n",
              "\n",
              "        text_reviews_count publication_date                    publisher  \n",
              "bookID                                                                    \n",
              "12224                    6        4/20/2004     Harvard University Press  \n",
              "16914                    4         4/6/2004            Cold Spring Press  \n",
              "22128                    4        1/15/1999  Huntington House Publishers  \n",
              "34889                    0         5/1/1977    Brown Son & Ferguson Ltd.  "
            ],
            "text/html": [
              "\n",
              "  <div id=\"df-646a3304-605a-455c-a1b4-14c49c16db15\" class=\"colab-df-container\">\n",
              "    <div>\n",
              "<style scoped>\n",
              "    .dataframe tbody tr th:only-of-type {\n",
              "        vertical-align: middle;\n",
              "    }\n",
              "\n",
              "    .dataframe tbody tr th {\n",
              "        vertical-align: top;\n",
              "    }\n",
              "\n",
              "    .dataframe thead th {\n",
              "        text-align: right;\n",
              "    }\n",
              "</style>\n",
              "<table border=\"1\" class=\"dataframe\">\n",
              "  <thead>\n",
              "    <tr style=\"text-align: right;\">\n",
              "      <th></th>\n",
              "      <th>title</th>\n",
              "      <th>authors</th>\n",
              "      <th>average_rating</th>\n",
              "      <th>isbn</th>\n",
              "      <th>isbn13</th>\n",
              "      <th>language_code</th>\n",
              "      <th>num_pages</th>\n",
              "      <th>ratings_count</th>\n",
              "      <th>text_reviews_count</th>\n",
              "      <th>publication_date</th>\n",
              "      <th>publisher</th>\n",
              "    </tr>\n",
              "    <tr>\n",
              "      <th>bookID</th>\n",
              "      <th></th>\n",
              "      <th></th>\n",
              "      <th></th>\n",
              "      <th></th>\n",
              "      <th></th>\n",
              "      <th></th>\n",
              "      <th></th>\n",
              "      <th></th>\n",
              "      <th></th>\n",
              "      <th></th>\n",
              "      <th></th>\n",
              "    </tr>\n",
              "  </thead>\n",
              "  <tbody>\n",
              "    <tr>\n",
              "      <th>12224</th>\n",
              "      <td>Streetcar Suburbs: The Process of Growth in Bo...</td>\n",
              "      <td>Sam Bass Warner, Jr./Sam B. Warner</td>\n",
              "      <td>3.58</td>\n",
              "      <td>0674842111</td>\n",
              "      <td>9780674842113</td>\n",
              "      <td>en-US</td>\n",
              "      <td>236</td>\n",
              "      <td>61</td>\n",
              "      <td>6</td>\n",
              "      <td>4/20/2004</td>\n",
              "      <td>Harvard University Press</td>\n",
              "    </tr>\n",
              "    <tr>\n",
              "      <th>16914</th>\n",
              "      <td>The Tolkien Fan's Medieval Reader</td>\n",
              "      <td>David E. Smith/Verlyn Flieger</td>\n",
              "      <td>3.58</td>\n",
              "      <td>1593600119</td>\n",
              "      <td>9781593600112</td>\n",
              "      <td>eng</td>\n",
              "      <td>400</td>\n",
              "      <td>26</td>\n",
              "      <td>4</td>\n",
              "      <td>4/6/2004</td>\n",
              "      <td>Cold Spring Press</td>\n",
              "    </tr>\n",
              "    <tr>\n",
              "      <th>22128</th>\n",
              "      <td>Patriots (The Coming Collapse)</td>\n",
              "      <td>James Wesley, Rawles</td>\n",
              "      <td>3.63</td>\n",
              "      <td>156384155X</td>\n",
              "      <td>9781563841552</td>\n",
              "      <td>eng</td>\n",
              "      <td>342</td>\n",
              "      <td>38</td>\n",
              "      <td>4</td>\n",
              "      <td>1/15/1999</td>\n",
              "      <td>Huntington House Publishers</td>\n",
              "    </tr>\n",
              "    <tr>\n",
              "      <th>34889</th>\n",
              "      <td>Brown's Star Atlas: Showing All The Bright Sta...</td>\n",
              "      <td>Brown, Son &amp; Ferguson</td>\n",
              "      <td>0.00</td>\n",
              "      <td>0851742718</td>\n",
              "      <td>9780851742717</td>\n",
              "      <td>eng</td>\n",
              "      <td>49</td>\n",
              "      <td>0</td>\n",
              "      <td>0</td>\n",
              "      <td>5/1/1977</td>\n",
              "      <td>Brown Son &amp; Ferguson Ltd.</td>\n",
              "    </tr>\n",
              "  </tbody>\n",
              "</table>\n",
              "</div>\n",
              "    <div class=\"colab-df-buttons\">\n",
              "\n",
              "  <div class=\"colab-df-container\">\n",
              "    <button class=\"colab-df-convert\" onclick=\"convertToInteractive('df-646a3304-605a-455c-a1b4-14c49c16db15')\"\n",
              "            title=\"Convert this dataframe to an interactive table.\"\n",
              "            style=\"display:none;\">\n",
              "\n",
              "  <svg xmlns=\"http://www.w3.org/2000/svg\" height=\"24px\" viewBox=\"0 -960 960 960\">\n",
              "    <path d=\"M120-120v-720h720v720H120Zm60-500h600v-160H180v160Zm220 220h160v-160H400v160Zm0 220h160v-160H400v160ZM180-400h160v-160H180v160Zm440 0h160v-160H620v160ZM180-180h160v-160H180v160Zm440 0h160v-160H620v160Z\"/>\n",
              "  </svg>\n",
              "    </button>\n",
              "\n",
              "  <style>\n",
              "    .colab-df-container {\n",
              "      display:flex;\n",
              "      gap: 12px;\n",
              "    }\n",
              "\n",
              "    .colab-df-convert {\n",
              "      background-color: #E8F0FE;\n",
              "      border: none;\n",
              "      border-radius: 50%;\n",
              "      cursor: pointer;\n",
              "      display: none;\n",
              "      fill: #1967D2;\n",
              "      height: 32px;\n",
              "      padding: 0 0 0 0;\n",
              "      width: 32px;\n",
              "    }\n",
              "\n",
              "    .colab-df-convert:hover {\n",
              "      background-color: #E2EBFA;\n",
              "      box-shadow: 0px 1px 2px rgba(60, 64, 67, 0.3), 0px 1px 3px 1px rgba(60, 64, 67, 0.15);\n",
              "      fill: #174EA6;\n",
              "    }\n",
              "\n",
              "    .colab-df-buttons div {\n",
              "      margin-bottom: 4px;\n",
              "    }\n",
              "\n",
              "    [theme=dark] .colab-df-convert {\n",
              "      background-color: #3B4455;\n",
              "      fill: #D2E3FC;\n",
              "    }\n",
              "\n",
              "    [theme=dark] .colab-df-convert:hover {\n",
              "      background-color: #434B5C;\n",
              "      box-shadow: 0px 1px 3px 1px rgba(0, 0, 0, 0.15);\n",
              "      filter: drop-shadow(0px 1px 2px rgba(0, 0, 0, 0.3));\n",
              "      fill: #FFFFFF;\n",
              "    }\n",
              "  </style>\n",
              "\n",
              "    <script>\n",
              "      const buttonEl =\n",
              "        document.querySelector('#df-646a3304-605a-455c-a1b4-14c49c16db15 button.colab-df-convert');\n",
              "      buttonEl.style.display =\n",
              "        google.colab.kernel.accessAllowed ? 'block' : 'none';\n",
              "\n",
              "      async function convertToInteractive(key) {\n",
              "        const element = document.querySelector('#df-646a3304-605a-455c-a1b4-14c49c16db15');\n",
              "        const dataTable =\n",
              "          await google.colab.kernel.invokeFunction('convertToInteractive',\n",
              "                                                    [key], {});\n",
              "        if (!dataTable) return;\n",
              "\n",
              "        const docLinkHtml = 'Like what you see? Visit the ' +\n",
              "          '<a target=\"_blank\" href=https://colab.research.google.com/notebooks/data_table.ipynb>data table notebook</a>'\n",
              "          + ' to learn more about interactive tables.';\n",
              "        element.innerHTML = '';\n",
              "        dataTable['output_type'] = 'display_data';\n",
              "        await google.colab.output.renderOutput(dataTable, element);\n",
              "        const docLink = document.createElement('div');\n",
              "        docLink.innerHTML = docLinkHtml;\n",
              "        element.appendChild(docLink);\n",
              "      }\n",
              "    </script>\n",
              "  </div>\n",
              "\n",
              "    </div>\n",
              "  </div>\n"
            ]
          },
          "metadata": {},
          "execution_count": 5
        }
      ]
    },
    {
      "cell_type": "markdown",
      "source": [
        "### Preview of the dataset (first 10 lines)"
      ],
      "metadata": {
        "collapsed": false,
        "id": "VJV2Kr_mui_k"
      }
    },
    {
      "cell_type": "code",
      "execution_count": 6,
      "outputs": [
        {
          "output_type": "execute_result",
          "data": {
            "text/plain": [
              "                                                    title  \\\n",
              "bookID                                                      \n",
              "1       Harry Potter and the Half-Blood Prince (Harry ...   \n",
              "2       Harry Potter and the Order of the Phoenix (Har...   \n",
              "4       Harry Potter and the Chamber of Secrets (Harry...   \n",
              "5       Harry Potter and the Prisoner of Azkaban (Harr...   \n",
              "8       Harry Potter Boxed Set  Books 1-5 (Harry Potte...   \n",
              "9       Unauthorized Harry Potter Book Seven News: \"Ha...   \n",
              "10           Harry Potter Collection (Harry Potter  #1-6)   \n",
              "12      The Ultimate Hitchhiker's Guide: Five Complete...   \n",
              "13      The Ultimate Hitchhiker's Guide to the Galaxy ...   \n",
              "14      The Hitchhiker's Guide to the Galaxy (Hitchhik...   \n",
              "\n",
              "                           authors  average_rating        isbn         isbn13  \\\n",
              "bookID                                                                          \n",
              "1       J.K. Rowling/Mary GrandPré            4.57  0439785960  9780439785969   \n",
              "2       J.K. Rowling/Mary GrandPré            4.49  0439358078  9780439358071   \n",
              "4                     J.K. Rowling            4.42  0439554896  9780439554893   \n",
              "5       J.K. Rowling/Mary GrandPré            4.56  043965548X  9780439655484   \n",
              "8       J.K. Rowling/Mary GrandPré            4.78  0439682584  9780439682589   \n",
              "9           W. Frederick Zimmerman            3.74  0976540606  9780976540601   \n",
              "10                    J.K. Rowling            4.73  0439827604  9780439827607   \n",
              "12                   Douglas Adams            4.38  0517226952  9780517226957   \n",
              "13                   Douglas Adams            4.38  0345453743  9780345453747   \n",
              "14                   Douglas Adams            4.22  1400052920  9781400052929   \n",
              "\n",
              "       language_code    num_pages  ratings_count  text_reviews_count  \\\n",
              "bookID                                                                 \n",
              "1                eng          652        2095690               27591   \n",
              "2                eng          870        2153167               29221   \n",
              "4                eng          352           6333                 244   \n",
              "5                eng          435        2339585               36325   \n",
              "8                eng         2690          41428                 164   \n",
              "9              en-US          152             19                   1   \n",
              "10               eng         3342          28242                 808   \n",
              "12               eng          815           3628                 254   \n",
              "13               eng          815         249558                4080   \n",
              "14               eng          215           4930                 460   \n",
              "\n",
              "       publication_date        publisher  \n",
              "bookID                                    \n",
              "1             9/16/2006  Scholastic Inc.  \n",
              "2              9/1/2004  Scholastic Inc.  \n",
              "4             11/1/2003       Scholastic  \n",
              "5              5/1/2004  Scholastic Inc.  \n",
              "8             9/13/2004       Scholastic  \n",
              "9             4/26/2005     Nimble Books  \n",
              "10            9/12/2005       Scholastic  \n",
              "12            11/1/2005   Gramercy Books  \n",
              "13            4/30/2002    Del Rey Books  \n",
              "14             8/3/2004            Crown  "
            ],
            "text/html": [
              "\n",
              "  <div id=\"df-29ca112a-745c-41e0-847c-8c406e7bae3c\" class=\"colab-df-container\">\n",
              "    <div>\n",
              "<style scoped>\n",
              "    .dataframe tbody tr th:only-of-type {\n",
              "        vertical-align: middle;\n",
              "    }\n",
              "\n",
              "    .dataframe tbody tr th {\n",
              "        vertical-align: top;\n",
              "    }\n",
              "\n",
              "    .dataframe thead th {\n",
              "        text-align: right;\n",
              "    }\n",
              "</style>\n",
              "<table border=\"1\" class=\"dataframe\">\n",
              "  <thead>\n",
              "    <tr style=\"text-align: right;\">\n",
              "      <th></th>\n",
              "      <th>title</th>\n",
              "      <th>authors</th>\n",
              "      <th>average_rating</th>\n",
              "      <th>isbn</th>\n",
              "      <th>isbn13</th>\n",
              "      <th>language_code</th>\n",
              "      <th>num_pages</th>\n",
              "      <th>ratings_count</th>\n",
              "      <th>text_reviews_count</th>\n",
              "      <th>publication_date</th>\n",
              "      <th>publisher</th>\n",
              "    </tr>\n",
              "    <tr>\n",
              "      <th>bookID</th>\n",
              "      <th></th>\n",
              "      <th></th>\n",
              "      <th></th>\n",
              "      <th></th>\n",
              "      <th></th>\n",
              "      <th></th>\n",
              "      <th></th>\n",
              "      <th></th>\n",
              "      <th></th>\n",
              "      <th></th>\n",
              "      <th></th>\n",
              "    </tr>\n",
              "  </thead>\n",
              "  <tbody>\n",
              "    <tr>\n",
              "      <th>1</th>\n",
              "      <td>Harry Potter and the Half-Blood Prince (Harry ...</td>\n",
              "      <td>J.K. Rowling/Mary GrandPré</td>\n",
              "      <td>4.57</td>\n",
              "      <td>0439785960</td>\n",
              "      <td>9780439785969</td>\n",
              "      <td>eng</td>\n",
              "      <td>652</td>\n",
              "      <td>2095690</td>\n",
              "      <td>27591</td>\n",
              "      <td>9/16/2006</td>\n",
              "      <td>Scholastic Inc.</td>\n",
              "    </tr>\n",
              "    <tr>\n",
              "      <th>2</th>\n",
              "      <td>Harry Potter and the Order of the Phoenix (Har...</td>\n",
              "      <td>J.K. Rowling/Mary GrandPré</td>\n",
              "      <td>4.49</td>\n",
              "      <td>0439358078</td>\n",
              "      <td>9780439358071</td>\n",
              "      <td>eng</td>\n",
              "      <td>870</td>\n",
              "      <td>2153167</td>\n",
              "      <td>29221</td>\n",
              "      <td>9/1/2004</td>\n",
              "      <td>Scholastic Inc.</td>\n",
              "    </tr>\n",
              "    <tr>\n",
              "      <th>4</th>\n",
              "      <td>Harry Potter and the Chamber of Secrets (Harry...</td>\n",
              "      <td>J.K. Rowling</td>\n",
              "      <td>4.42</td>\n",
              "      <td>0439554896</td>\n",
              "      <td>9780439554893</td>\n",
              "      <td>eng</td>\n",
              "      <td>352</td>\n",
              "      <td>6333</td>\n",
              "      <td>244</td>\n",
              "      <td>11/1/2003</td>\n",
              "      <td>Scholastic</td>\n",
              "    </tr>\n",
              "    <tr>\n",
              "      <th>5</th>\n",
              "      <td>Harry Potter and the Prisoner of Azkaban (Harr...</td>\n",
              "      <td>J.K. Rowling/Mary GrandPré</td>\n",
              "      <td>4.56</td>\n",
              "      <td>043965548X</td>\n",
              "      <td>9780439655484</td>\n",
              "      <td>eng</td>\n",
              "      <td>435</td>\n",
              "      <td>2339585</td>\n",
              "      <td>36325</td>\n",
              "      <td>5/1/2004</td>\n",
              "      <td>Scholastic Inc.</td>\n",
              "    </tr>\n",
              "    <tr>\n",
              "      <th>8</th>\n",
              "      <td>Harry Potter Boxed Set  Books 1-5 (Harry Potte...</td>\n",
              "      <td>J.K. Rowling/Mary GrandPré</td>\n",
              "      <td>4.78</td>\n",
              "      <td>0439682584</td>\n",
              "      <td>9780439682589</td>\n",
              "      <td>eng</td>\n",
              "      <td>2690</td>\n",
              "      <td>41428</td>\n",
              "      <td>164</td>\n",
              "      <td>9/13/2004</td>\n",
              "      <td>Scholastic</td>\n",
              "    </tr>\n",
              "    <tr>\n",
              "      <th>9</th>\n",
              "      <td>Unauthorized Harry Potter Book Seven News: \"Ha...</td>\n",
              "      <td>W. Frederick Zimmerman</td>\n",
              "      <td>3.74</td>\n",
              "      <td>0976540606</td>\n",
              "      <td>9780976540601</td>\n",
              "      <td>en-US</td>\n",
              "      <td>152</td>\n",
              "      <td>19</td>\n",
              "      <td>1</td>\n",
              "      <td>4/26/2005</td>\n",
              "      <td>Nimble Books</td>\n",
              "    </tr>\n",
              "    <tr>\n",
              "      <th>10</th>\n",
              "      <td>Harry Potter Collection (Harry Potter  #1-6)</td>\n",
              "      <td>J.K. Rowling</td>\n",
              "      <td>4.73</td>\n",
              "      <td>0439827604</td>\n",
              "      <td>9780439827607</td>\n",
              "      <td>eng</td>\n",
              "      <td>3342</td>\n",
              "      <td>28242</td>\n",
              "      <td>808</td>\n",
              "      <td>9/12/2005</td>\n",
              "      <td>Scholastic</td>\n",
              "    </tr>\n",
              "    <tr>\n",
              "      <th>12</th>\n",
              "      <td>The Ultimate Hitchhiker's Guide: Five Complete...</td>\n",
              "      <td>Douglas Adams</td>\n",
              "      <td>4.38</td>\n",
              "      <td>0517226952</td>\n",
              "      <td>9780517226957</td>\n",
              "      <td>eng</td>\n",
              "      <td>815</td>\n",
              "      <td>3628</td>\n",
              "      <td>254</td>\n",
              "      <td>11/1/2005</td>\n",
              "      <td>Gramercy Books</td>\n",
              "    </tr>\n",
              "    <tr>\n",
              "      <th>13</th>\n",
              "      <td>The Ultimate Hitchhiker's Guide to the Galaxy ...</td>\n",
              "      <td>Douglas Adams</td>\n",
              "      <td>4.38</td>\n",
              "      <td>0345453743</td>\n",
              "      <td>9780345453747</td>\n",
              "      <td>eng</td>\n",
              "      <td>815</td>\n",
              "      <td>249558</td>\n",
              "      <td>4080</td>\n",
              "      <td>4/30/2002</td>\n",
              "      <td>Del Rey Books</td>\n",
              "    </tr>\n",
              "    <tr>\n",
              "      <th>14</th>\n",
              "      <td>The Hitchhiker's Guide to the Galaxy (Hitchhik...</td>\n",
              "      <td>Douglas Adams</td>\n",
              "      <td>4.22</td>\n",
              "      <td>1400052920</td>\n",
              "      <td>9781400052929</td>\n",
              "      <td>eng</td>\n",
              "      <td>215</td>\n",
              "      <td>4930</td>\n",
              "      <td>460</td>\n",
              "      <td>8/3/2004</td>\n",
              "      <td>Crown</td>\n",
              "    </tr>\n",
              "  </tbody>\n",
              "</table>\n",
              "</div>\n",
              "    <div class=\"colab-df-buttons\">\n",
              "\n",
              "  <div class=\"colab-df-container\">\n",
              "    <button class=\"colab-df-convert\" onclick=\"convertToInteractive('df-29ca112a-745c-41e0-847c-8c406e7bae3c')\"\n",
              "            title=\"Convert this dataframe to an interactive table.\"\n",
              "            style=\"display:none;\">\n",
              "\n",
              "  <svg xmlns=\"http://www.w3.org/2000/svg\" height=\"24px\" viewBox=\"0 -960 960 960\">\n",
              "    <path d=\"M120-120v-720h720v720H120Zm60-500h600v-160H180v160Zm220 220h160v-160H400v160Zm0 220h160v-160H400v160ZM180-400h160v-160H180v160Zm440 0h160v-160H620v160ZM180-180h160v-160H180v160Zm440 0h160v-160H620v160Z\"/>\n",
              "  </svg>\n",
              "    </button>\n",
              "\n",
              "  <style>\n",
              "    .colab-df-container {\n",
              "      display:flex;\n",
              "      gap: 12px;\n",
              "    }\n",
              "\n",
              "    .colab-df-convert {\n",
              "      background-color: #E8F0FE;\n",
              "      border: none;\n",
              "      border-radius: 50%;\n",
              "      cursor: pointer;\n",
              "      display: none;\n",
              "      fill: #1967D2;\n",
              "      height: 32px;\n",
              "      padding: 0 0 0 0;\n",
              "      width: 32px;\n",
              "    }\n",
              "\n",
              "    .colab-df-convert:hover {\n",
              "      background-color: #E2EBFA;\n",
              "      box-shadow: 0px 1px 2px rgba(60, 64, 67, 0.3), 0px 1px 3px 1px rgba(60, 64, 67, 0.15);\n",
              "      fill: #174EA6;\n",
              "    }\n",
              "\n",
              "    .colab-df-buttons div {\n",
              "      margin-bottom: 4px;\n",
              "    }\n",
              "\n",
              "    [theme=dark] .colab-df-convert {\n",
              "      background-color: #3B4455;\n",
              "      fill: #D2E3FC;\n",
              "    }\n",
              "\n",
              "    [theme=dark] .colab-df-convert:hover {\n",
              "      background-color: #434B5C;\n",
              "      box-shadow: 0px 1px 3px 1px rgba(0, 0, 0, 0.15);\n",
              "      filter: drop-shadow(0px 1px 2px rgba(0, 0, 0, 0.3));\n",
              "      fill: #FFFFFF;\n",
              "    }\n",
              "  </style>\n",
              "\n",
              "    <script>\n",
              "      const buttonEl =\n",
              "        document.querySelector('#df-29ca112a-745c-41e0-847c-8c406e7bae3c button.colab-df-convert');\n",
              "      buttonEl.style.display =\n",
              "        google.colab.kernel.accessAllowed ? 'block' : 'none';\n",
              "\n",
              "      async function convertToInteractive(key) {\n",
              "        const element = document.querySelector('#df-29ca112a-745c-41e0-847c-8c406e7bae3c');\n",
              "        const dataTable =\n",
              "          await google.colab.kernel.invokeFunction('convertToInteractive',\n",
              "                                                    [key], {});\n",
              "        if (!dataTable) return;\n",
              "\n",
              "        const docLinkHtml = 'Like what you see? Visit the ' +\n",
              "          '<a target=\"_blank\" href=https://colab.research.google.com/notebooks/data_table.ipynb>data table notebook</a>'\n",
              "          + ' to learn more about interactive tables.';\n",
              "        element.innerHTML = '';\n",
              "        dataTable['output_type'] = 'display_data';\n",
              "        await google.colab.output.renderOutput(dataTable, element);\n",
              "        const docLink = document.createElement('div');\n",
              "        docLink.innerHTML = docLinkHtml;\n",
              "        element.appendChild(docLink);\n",
              "      }\n",
              "    </script>\n",
              "  </div>\n",
              "\n",
              "\n",
              "<div id=\"df-8c3dc7ea-785e-4b20-b661-e174e2a0bf58\">\n",
              "  <button class=\"colab-df-quickchart\" onclick=\"quickchart('df-8c3dc7ea-785e-4b20-b661-e174e2a0bf58')\"\n",
              "            title=\"Suggest charts.\"\n",
              "            style=\"display:none;\">\n",
              "\n",
              "<svg xmlns=\"http://www.w3.org/2000/svg\" height=\"24px\"viewBox=\"0 0 24 24\"\n",
              "     width=\"24px\">\n",
              "    <g>\n",
              "        <path d=\"M19 3H5c-1.1 0-2 .9-2 2v14c0 1.1.9 2 2 2h14c1.1 0 2-.9 2-2V5c0-1.1-.9-2-2-2zM9 17H7v-7h2v7zm4 0h-2V7h2v10zm4 0h-2v-4h2v4z\"/>\n",
              "    </g>\n",
              "</svg>\n",
              "  </button>\n",
              "\n",
              "<style>\n",
              "  .colab-df-quickchart {\n",
              "    background-color: #E8F0FE;\n",
              "    border: none;\n",
              "    border-radius: 50%;\n",
              "    cursor: pointer;\n",
              "    display: none;\n",
              "    fill: #1967D2;\n",
              "    height: 32px;\n",
              "    padding: 0 0 0 0;\n",
              "    width: 32px;\n",
              "  }\n",
              "\n",
              "  .colab-df-quickchart:hover {\n",
              "    background-color: #E2EBFA;\n",
              "    box-shadow: 0px 1px 2px rgba(60, 64, 67, 0.3), 0px 1px 3px 1px rgba(60, 64, 67, 0.15);\n",
              "    fill: #174EA6;\n",
              "  }\n",
              "\n",
              "  [theme=dark] .colab-df-quickchart {\n",
              "    background-color: #3B4455;\n",
              "    fill: #D2E3FC;\n",
              "  }\n",
              "\n",
              "  [theme=dark] .colab-df-quickchart:hover {\n",
              "    background-color: #434B5C;\n",
              "    box-shadow: 0px 1px 3px 1px rgba(0, 0, 0, 0.15);\n",
              "    filter: drop-shadow(0px 1px 2px rgba(0, 0, 0, 0.3));\n",
              "    fill: #FFFFFF;\n",
              "  }\n",
              "</style>\n",
              "\n",
              "  <script>\n",
              "    async function quickchart(key) {\n",
              "      const charts = await google.colab.kernel.invokeFunction(\n",
              "          'suggestCharts', [key], {});\n",
              "    }\n",
              "    (() => {\n",
              "      let quickchartButtonEl =\n",
              "        document.querySelector('#df-8c3dc7ea-785e-4b20-b661-e174e2a0bf58 button');\n",
              "      quickchartButtonEl.style.display =\n",
              "        google.colab.kernel.accessAllowed ? 'block' : 'none';\n",
              "    })();\n",
              "  </script>\n",
              "</div>\n",
              "    </div>\n",
              "  </div>\n"
            ]
          },
          "metadata": {},
          "execution_count": 6
        }
      ],
      "source": [
        "df_book.head(10)"
      ],
      "metadata": {
        "id": "cdp5KUNMui_l",
        "colab": {
          "base_uri": "https://localhost:8080/",
          "height": 741
        },
        "outputId": "dbb7cf90-6bd2-47ae-dc17-20901e78afcc"
      }
    },
    {
      "cell_type": "code",
      "execution_count": 7,
      "outputs": [
        {
          "output_type": "execute_result",
          "data": {
            "text/plain": [
              "'9/16/2006'"
            ],
            "application/vnd.google.colaboratory.intrinsic+json": {
              "type": "string"
            }
          },
          "metadata": {},
          "execution_count": 7
        }
      ],
      "source": [
        "df_book.publication_date[1]   # Show data format in column \"publication_date\""
      ],
      "metadata": {
        "id": "yogQzMtIui_l",
        "colab": {
          "base_uri": "https://localhost:8080/",
          "height": 36
        },
        "outputId": "67a5846d-ae1e-4567-933a-9bb59ab555ea"
      }
    },
    {
      "cell_type": "markdown",
      "source": [
        "In the column `language_code`, `eng` and `en-US` both refer to English. This is a format inconsistency. It should be checked to see if there are more kinds of inconsistency.\n",
        "The values in column `publication_date` are processed as type `str`. The date should be converted to pandas `datetime` object by convention."
      ],
      "metadata": {
        "collapsed": false,
        "id": "ys-VDAucui_m"
      }
    },
    {
      "cell_type": "markdown",
      "source": [
        "### Check missing values `NaN` in pandas.DataFame"
      ],
      "metadata": {
        "collapsed": false,
        "id": "cSDIS0reui_m"
      }
    },
    {
      "cell_type": "code",
      "execution_count": 8,
      "outputs": [
        {
          "output_type": "execute_result",
          "data": {
            "text/plain": [
              "title                 0\n",
              "authors               0\n",
              "average_rating        0\n",
              "isbn                  0\n",
              "isbn13                0\n",
              "language_code         0\n",
              "  num_pages           0\n",
              "ratings_count         0\n",
              "text_reviews_count    0\n",
              "publication_date      0\n",
              "publisher             0\n",
              "dtype: int64"
            ]
          },
          "metadata": {},
          "execution_count": 8
        }
      ],
      "source": [
        "df_book.isnull().sum()"
      ],
      "metadata": {
        "id": "umd926Pbui_n",
        "colab": {
          "base_uri": "https://localhost:8080/"
        },
        "outputId": "156d1465-9609-4538-c6f7-7d6a4be9d942"
      }
    },
    {
      "cell_type": "markdown",
      "source": [
        "Conclusion: There is no missing value in `df_book`"
      ],
      "metadata": {
        "collapsed": false,
        "id": "wp5w2frCui_n"
      }
    },
    {
      "cell_type": "markdown",
      "source": [
        "### Check duplicated data"
      ],
      "metadata": {
        "collapsed": false,
        "id": "7d_uVNA8ui_o"
      }
    },
    {
      "cell_type": "code",
      "execution_count": 9,
      "outputs": [
        {
          "output_type": "execute_result",
          "data": {
            "text/plain": [
              "0"
            ]
          },
          "metadata": {},
          "execution_count": 9
        }
      ],
      "source": [
        "df_book.duplicated(subset=\"isbn13\").sum()   # Count duplicated records in dataset"
      ],
      "metadata": {
        "id": "ioYp87hgui_o",
        "colab": {
          "base_uri": "https://localhost:8080/"
        },
        "outputId": "6b1d674a-eceb-41ec-d93e-dc2d0ce68a8c"
      }
    },
    {
      "cell_type": "markdown",
      "source": [
        "The ISBN/ISBN13 is the unique ID of a book in the world, so it can be used to examine if there are duplicated books in the dataset.\n",
        "The results show that there is no duplicated record."
      ],
      "metadata": {
        "collapsed": false,
        "id": "4wPvaaCHui_o"
      }
    },
    {
      "cell_type": "markdown",
      "source": [
        "### Overview of dataset"
      ],
      "metadata": {
        "collapsed": false,
        "id": "9poNy8ZDui_o"
      }
    },
    {
      "cell_type": "code",
      "execution_count": 10,
      "outputs": [
        {
          "output_type": "stream",
          "name": "stdout",
          "text": [
            "<class 'pandas.core.frame.DataFrame'>\n",
            "Int64Index: 11127 entries, 1 to 45641\n",
            "Data columns (total 11 columns):\n",
            " #   Column              Non-Null Count  Dtype  \n",
            "---  ------              --------------  -----  \n",
            " 0   title               11127 non-null  object \n",
            " 1   authors             11127 non-null  object \n",
            " 2   average_rating      11127 non-null  float64\n",
            " 3   isbn                11127 non-null  object \n",
            " 4   isbn13              11127 non-null  int64  \n",
            " 5   language_code       11127 non-null  object \n",
            " 6     num_pages         11127 non-null  int64  \n",
            " 7   ratings_count       11127 non-null  int64  \n",
            " 8   text_reviews_count  11127 non-null  int64  \n",
            " 9   publication_date    11127 non-null  object \n",
            " 10  publisher           11127 non-null  object \n",
            "dtypes: float64(1), int64(4), object(6)\n",
            "memory usage: 1.3+ MB\n"
          ]
        }
      ],
      "source": [
        "df_book.info()      # List all the column names and their data type"
      ],
      "metadata": {
        "id": "4PsoCI-wui_o",
        "colab": {
          "base_uri": "https://localhost:8080/"
        },
        "outputId": "a7511df7-4f8a-4d0a-bb25-b331db838d22"
      }
    },
    {
      "cell_type": "markdown",
      "source": [
        "Here it can be seen that each book in the dataset has 11 attributes, and there are 11127 book records in total. In other word, the dimension of the dataset is $11127\\times 11$.\n",
        "Additionally, the column name `  num_pages` contains 2 space characters at the beginning, which should be removed in data cleaning. Because it will cause problems when doing indexing like `df_book.num_pages`"
      ],
      "metadata": {
        "collapsed": false,
        "id": "j6oT9MXbui_o"
      }
    },
    {
      "cell_type": "code",
      "execution_count": 11,
      "outputs": [
        {
          "output_type": "execute_result",
          "data": {
            "text/plain": [
              "       average_rating        isbn13     num_pages  ratings_count  \\\n",
              "count    11127.000000  1.112700e+04  11127.000000   1.112700e+04   \n",
              "mean         3.933631  9.759888e+12    336.376921   1.793641e+04   \n",
              "std          0.352445  4.428964e+11    241.127305   1.124794e+05   \n",
              "min          0.000000  8.987060e+09      0.000000   0.000000e+00   \n",
              "25%          3.770000  9.780345e+12    192.000000   1.040000e+02   \n",
              "50%          3.960000  9.780586e+12    299.000000   7.450000e+02   \n",
              "75%          4.135000  9.780873e+12    416.000000   4.993500e+03   \n",
              "max          5.000000  9.790008e+12   6576.000000   4.597666e+06   \n",
              "\n",
              "       text_reviews_count  \n",
              "count        11127.000000  \n",
              "mean           541.854498  \n",
              "std           2576.176608  \n",
              "min              0.000000  \n",
              "25%              9.000000  \n",
              "50%             46.000000  \n",
              "75%            237.500000  \n",
              "max          94265.000000  "
            ],
            "text/html": [
              "\n",
              "  <div id=\"df-23ebc8a6-6a48-47a5-9db7-ff059b8e203c\" class=\"colab-df-container\">\n",
              "    <div>\n",
              "<style scoped>\n",
              "    .dataframe tbody tr th:only-of-type {\n",
              "        vertical-align: middle;\n",
              "    }\n",
              "\n",
              "    .dataframe tbody tr th {\n",
              "        vertical-align: top;\n",
              "    }\n",
              "\n",
              "    .dataframe thead th {\n",
              "        text-align: right;\n",
              "    }\n",
              "</style>\n",
              "<table border=\"1\" class=\"dataframe\">\n",
              "  <thead>\n",
              "    <tr style=\"text-align: right;\">\n",
              "      <th></th>\n",
              "      <th>average_rating</th>\n",
              "      <th>isbn13</th>\n",
              "      <th>num_pages</th>\n",
              "      <th>ratings_count</th>\n",
              "      <th>text_reviews_count</th>\n",
              "    </tr>\n",
              "  </thead>\n",
              "  <tbody>\n",
              "    <tr>\n",
              "      <th>count</th>\n",
              "      <td>11127.000000</td>\n",
              "      <td>1.112700e+04</td>\n",
              "      <td>11127.000000</td>\n",
              "      <td>1.112700e+04</td>\n",
              "      <td>11127.000000</td>\n",
              "    </tr>\n",
              "    <tr>\n",
              "      <th>mean</th>\n",
              "      <td>3.933631</td>\n",
              "      <td>9.759888e+12</td>\n",
              "      <td>336.376921</td>\n",
              "      <td>1.793641e+04</td>\n",
              "      <td>541.854498</td>\n",
              "    </tr>\n",
              "    <tr>\n",
              "      <th>std</th>\n",
              "      <td>0.352445</td>\n",
              "      <td>4.428964e+11</td>\n",
              "      <td>241.127305</td>\n",
              "      <td>1.124794e+05</td>\n",
              "      <td>2576.176608</td>\n",
              "    </tr>\n",
              "    <tr>\n",
              "      <th>min</th>\n",
              "      <td>0.000000</td>\n",
              "      <td>8.987060e+09</td>\n",
              "      <td>0.000000</td>\n",
              "      <td>0.000000e+00</td>\n",
              "      <td>0.000000</td>\n",
              "    </tr>\n",
              "    <tr>\n",
              "      <th>25%</th>\n",
              "      <td>3.770000</td>\n",
              "      <td>9.780345e+12</td>\n",
              "      <td>192.000000</td>\n",
              "      <td>1.040000e+02</td>\n",
              "      <td>9.000000</td>\n",
              "    </tr>\n",
              "    <tr>\n",
              "      <th>50%</th>\n",
              "      <td>3.960000</td>\n",
              "      <td>9.780586e+12</td>\n",
              "      <td>299.000000</td>\n",
              "      <td>7.450000e+02</td>\n",
              "      <td>46.000000</td>\n",
              "    </tr>\n",
              "    <tr>\n",
              "      <th>75%</th>\n",
              "      <td>4.135000</td>\n",
              "      <td>9.780873e+12</td>\n",
              "      <td>416.000000</td>\n",
              "      <td>4.993500e+03</td>\n",
              "      <td>237.500000</td>\n",
              "    </tr>\n",
              "    <tr>\n",
              "      <th>max</th>\n",
              "      <td>5.000000</td>\n",
              "      <td>9.790008e+12</td>\n",
              "      <td>6576.000000</td>\n",
              "      <td>4.597666e+06</td>\n",
              "      <td>94265.000000</td>\n",
              "    </tr>\n",
              "  </tbody>\n",
              "</table>\n",
              "</div>\n",
              "    <div class=\"colab-df-buttons\">\n",
              "\n",
              "  <div class=\"colab-df-container\">\n",
              "    <button class=\"colab-df-convert\" onclick=\"convertToInteractive('df-23ebc8a6-6a48-47a5-9db7-ff059b8e203c')\"\n",
              "            title=\"Convert this dataframe to an interactive table.\"\n",
              "            style=\"display:none;\">\n",
              "\n",
              "  <svg xmlns=\"http://www.w3.org/2000/svg\" height=\"24px\" viewBox=\"0 -960 960 960\">\n",
              "    <path d=\"M120-120v-720h720v720H120Zm60-500h600v-160H180v160Zm220 220h160v-160H400v160Zm0 220h160v-160H400v160ZM180-400h160v-160H180v160Zm440 0h160v-160H620v160ZM180-180h160v-160H180v160Zm440 0h160v-160H620v160Z\"/>\n",
              "  </svg>\n",
              "    </button>\n",
              "\n",
              "  <style>\n",
              "    .colab-df-container {\n",
              "      display:flex;\n",
              "      gap: 12px;\n",
              "    }\n",
              "\n",
              "    .colab-df-convert {\n",
              "      background-color: #E8F0FE;\n",
              "      border: none;\n",
              "      border-radius: 50%;\n",
              "      cursor: pointer;\n",
              "      display: none;\n",
              "      fill: #1967D2;\n",
              "      height: 32px;\n",
              "      padding: 0 0 0 0;\n",
              "      width: 32px;\n",
              "    }\n",
              "\n",
              "    .colab-df-convert:hover {\n",
              "      background-color: #E2EBFA;\n",
              "      box-shadow: 0px 1px 2px rgba(60, 64, 67, 0.3), 0px 1px 3px 1px rgba(60, 64, 67, 0.15);\n",
              "      fill: #174EA6;\n",
              "    }\n",
              "\n",
              "    .colab-df-buttons div {\n",
              "      margin-bottom: 4px;\n",
              "    }\n",
              "\n",
              "    [theme=dark] .colab-df-convert {\n",
              "      background-color: #3B4455;\n",
              "      fill: #D2E3FC;\n",
              "    }\n",
              "\n",
              "    [theme=dark] .colab-df-convert:hover {\n",
              "      background-color: #434B5C;\n",
              "      box-shadow: 0px 1px 3px 1px rgba(0, 0, 0, 0.15);\n",
              "      filter: drop-shadow(0px 1px 2px rgba(0, 0, 0, 0.3));\n",
              "      fill: #FFFFFF;\n",
              "    }\n",
              "  </style>\n",
              "\n",
              "    <script>\n",
              "      const buttonEl =\n",
              "        document.querySelector('#df-23ebc8a6-6a48-47a5-9db7-ff059b8e203c button.colab-df-convert');\n",
              "      buttonEl.style.display =\n",
              "        google.colab.kernel.accessAllowed ? 'block' : 'none';\n",
              "\n",
              "      async function convertToInteractive(key) {\n",
              "        const element = document.querySelector('#df-23ebc8a6-6a48-47a5-9db7-ff059b8e203c');\n",
              "        const dataTable =\n",
              "          await google.colab.kernel.invokeFunction('convertToInteractive',\n",
              "                                                    [key], {});\n",
              "        if (!dataTable) return;\n",
              "\n",
              "        const docLinkHtml = 'Like what you see? Visit the ' +\n",
              "          '<a target=\"_blank\" href=https://colab.research.google.com/notebooks/data_table.ipynb>data table notebook</a>'\n",
              "          + ' to learn more about interactive tables.';\n",
              "        element.innerHTML = '';\n",
              "        dataTable['output_type'] = 'display_data';\n",
              "        await google.colab.output.renderOutput(dataTable, element);\n",
              "        const docLink = document.createElement('div');\n",
              "        docLink.innerHTML = docLinkHtml;\n",
              "        element.appendChild(docLink);\n",
              "      }\n",
              "    </script>\n",
              "  </div>\n",
              "\n",
              "\n",
              "<div id=\"df-f4c61a82-c7c5-42de-8b7f-8825d06e9742\">\n",
              "  <button class=\"colab-df-quickchart\" onclick=\"quickchart('df-f4c61a82-c7c5-42de-8b7f-8825d06e9742')\"\n",
              "            title=\"Suggest charts.\"\n",
              "            style=\"display:none;\">\n",
              "\n",
              "<svg xmlns=\"http://www.w3.org/2000/svg\" height=\"24px\"viewBox=\"0 0 24 24\"\n",
              "     width=\"24px\">\n",
              "    <g>\n",
              "        <path d=\"M19 3H5c-1.1 0-2 .9-2 2v14c0 1.1.9 2 2 2h14c1.1 0 2-.9 2-2V5c0-1.1-.9-2-2-2zM9 17H7v-7h2v7zm4 0h-2V7h2v10zm4 0h-2v-4h2v4z\"/>\n",
              "    </g>\n",
              "</svg>\n",
              "  </button>\n",
              "\n",
              "<style>\n",
              "  .colab-df-quickchart {\n",
              "    background-color: #E8F0FE;\n",
              "    border: none;\n",
              "    border-radius: 50%;\n",
              "    cursor: pointer;\n",
              "    display: none;\n",
              "    fill: #1967D2;\n",
              "    height: 32px;\n",
              "    padding: 0 0 0 0;\n",
              "    width: 32px;\n",
              "  }\n",
              "\n",
              "  .colab-df-quickchart:hover {\n",
              "    background-color: #E2EBFA;\n",
              "    box-shadow: 0px 1px 2px rgba(60, 64, 67, 0.3), 0px 1px 3px 1px rgba(60, 64, 67, 0.15);\n",
              "    fill: #174EA6;\n",
              "  }\n",
              "\n",
              "  [theme=dark] .colab-df-quickchart {\n",
              "    background-color: #3B4455;\n",
              "    fill: #D2E3FC;\n",
              "  }\n",
              "\n",
              "  [theme=dark] .colab-df-quickchart:hover {\n",
              "    background-color: #434B5C;\n",
              "    box-shadow: 0px 1px 3px 1px rgba(0, 0, 0, 0.15);\n",
              "    filter: drop-shadow(0px 1px 2px rgba(0, 0, 0, 0.3));\n",
              "    fill: #FFFFFF;\n",
              "  }\n",
              "</style>\n",
              "\n",
              "  <script>\n",
              "    async function quickchart(key) {\n",
              "      const charts = await google.colab.kernel.invokeFunction(\n",
              "          'suggestCharts', [key], {});\n",
              "    }\n",
              "    (() => {\n",
              "      let quickchartButtonEl =\n",
              "        document.querySelector('#df-f4c61a82-c7c5-42de-8b7f-8825d06e9742 button');\n",
              "      quickchartButtonEl.style.display =\n",
              "        google.colab.kernel.accessAllowed ? 'block' : 'none';\n",
              "    })();\n",
              "  </script>\n",
              "</div>\n",
              "    </div>\n",
              "  </div>\n"
            ]
          },
          "metadata": {},
          "execution_count": 11
        }
      ],
      "source": [
        "df_book.describe()  # statistique information of the columns that contain numeric values"
      ],
      "metadata": {
        "id": "ZnmOSEudui_p",
        "colab": {
          "base_uri": "https://localhost:8080/",
          "height": 300
        },
        "outputId": "ed2b0c43-646b-4414-9c93-47a03c175ca2"
      }
    },
    {
      "cell_type": "markdown",
      "source": [
        "The minimal value in column `num_pages` is 0, which means there are books that have 0 page, and this is abnormal. These data should be corrected in data cleaning process."
      ],
      "metadata": {
        "collapsed": false,
        "id": "216zJQOfui_p"
      }
    },
    {
      "cell_type": "code",
      "execution_count": 12,
      "outputs": [
        {
          "output_type": "execute_result",
          "data": {
            "text/plain": [
              "                                                    title  \\\n",
              "bookID                                                      \n",
              "955     The 5 Love Languages / The 5 Love Languages Jo...   \n",
              "2835                     The Tragedy of Pudd'nhead Wilson   \n",
              "3593    Murder by Moonlight & Other Mysteries (New Adv...   \n",
              "3599    The Unfortunate Tobacconist & Other Mysteries ...   \n",
              "4249               The Da Vinci Code (Robert Langdon  #2)   \n",
              "...                                                   ...   \n",
              "40378                   The Chessmen of Mars (Barsoom #5)   \n",
              "41273                      Fine Lines (One-Eyed Mack  #6)   \n",
              "43343   Stowaway and Milk Run: Two Unabridged Stories ...   \n",
              "44748                         The Mask of the Enchantress   \n",
              "45472   Treasury of American Tall Tales: Volume 1: Dav...   \n",
              "\n",
              "                                                  authors  average_rating  \\\n",
              "bookID                                                                      \n",
              "955                                          Gary Chapman            4.70   \n",
              "2835                          Mark Twain/Michael Prichard            3.79   \n",
              "3593                                           NOT A BOOK            4.00   \n",
              "3599                                           NOT A BOOK            3.50   \n",
              "4249                               Dan Brown/Paul Michael            3.84   \n",
              "...                                                   ...             ...   \n",
              "40378                     Edgar Rice Burroughs/John Bolen            3.83   \n",
              "41273                                          Jim Lehrer            3.23   \n",
              "43343                      Mary Higgins Clark/Jan Maxwell            3.49   \n",
              "44748                                       Victoria Holt            3.85   \n",
              "45472   David Bromberg/Jay Ungar/Molly Mason/Garrison ...            3.86   \n",
              "\n",
              "              isbn         isbn13 language_code    num_pages  ratings_count  \\\n",
              "bookID                                                                        \n",
              "955     0802415318  9780802415318           eng            0             22   \n",
              "2835    140015068X  9781400150687           eng            0              3   \n",
              "3593    0743564677  9780743564670           eng            0              7   \n",
              "3599    074353395X  9780743533959           eng            0             12   \n",
              "4249    0739339788  9780739339787           eng            0             91   \n",
              "...            ...            ...           ...          ...            ...   \n",
              "40378   1400130212  9781400130214           eng            0           5147   \n",
              "41273   0517164353  9780517164358           eng            0             17   \n",
              "43343   0671046241  9780671046248           eng            0             64   \n",
              "44748   0449210847  9780449210840           eng            0             21   \n",
              "45472   0739336509  9780739336502           eng            0             36   \n",
              "\n",
              "        text_reviews_count publication_date                      publisher  \n",
              "bookID                                                                      \n",
              "955                      4         1/1/2005               Moody Publishers  \n",
              "2835                     0         1/1/2003                   Tantor Media  \n",
              "3593                     2        10/3/2006          Simon  Schuster Audio  \n",
              "3599                     1        10/1/2003         Simon & Schuster Audio  \n",
              "4249                    16        3/28/2006             Random House Audio  \n",
              "...                    ...              ...                            ...  \n",
              "40378                  157         1/1/2005                   Tantor Media  \n",
              "41273                    4       11/19/1995  Random House Value Publishing  \n",
              "43343                    2        12/1/1999         Simon & Schuster Audio  \n",
              "44748                    1       10/12/1981                      Ivy Books  \n",
              "45472                    9        8/22/2006      Listening Library (Audio)  \n",
              "\n",
              "[76 rows x 11 columns]"
            ],
            "text/html": [
              "\n",
              "  <div id=\"df-be83f337-e548-43d4-a2da-e9703ff5503c\" class=\"colab-df-container\">\n",
              "    <div>\n",
              "<style scoped>\n",
              "    .dataframe tbody tr th:only-of-type {\n",
              "        vertical-align: middle;\n",
              "    }\n",
              "\n",
              "    .dataframe tbody tr th {\n",
              "        vertical-align: top;\n",
              "    }\n",
              "\n",
              "    .dataframe thead th {\n",
              "        text-align: right;\n",
              "    }\n",
              "</style>\n",
              "<table border=\"1\" class=\"dataframe\">\n",
              "  <thead>\n",
              "    <tr style=\"text-align: right;\">\n",
              "      <th></th>\n",
              "      <th>title</th>\n",
              "      <th>authors</th>\n",
              "      <th>average_rating</th>\n",
              "      <th>isbn</th>\n",
              "      <th>isbn13</th>\n",
              "      <th>language_code</th>\n",
              "      <th>num_pages</th>\n",
              "      <th>ratings_count</th>\n",
              "      <th>text_reviews_count</th>\n",
              "      <th>publication_date</th>\n",
              "      <th>publisher</th>\n",
              "    </tr>\n",
              "    <tr>\n",
              "      <th>bookID</th>\n",
              "      <th></th>\n",
              "      <th></th>\n",
              "      <th></th>\n",
              "      <th></th>\n",
              "      <th></th>\n",
              "      <th></th>\n",
              "      <th></th>\n",
              "      <th></th>\n",
              "      <th></th>\n",
              "      <th></th>\n",
              "      <th></th>\n",
              "    </tr>\n",
              "  </thead>\n",
              "  <tbody>\n",
              "    <tr>\n",
              "      <th>955</th>\n",
              "      <td>The 5 Love Languages / The 5 Love Languages Jo...</td>\n",
              "      <td>Gary Chapman</td>\n",
              "      <td>4.70</td>\n",
              "      <td>0802415318</td>\n",
              "      <td>9780802415318</td>\n",
              "      <td>eng</td>\n",
              "      <td>0</td>\n",
              "      <td>22</td>\n",
              "      <td>4</td>\n",
              "      <td>1/1/2005</td>\n",
              "      <td>Moody Publishers</td>\n",
              "    </tr>\n",
              "    <tr>\n",
              "      <th>2835</th>\n",
              "      <td>The Tragedy of Pudd'nhead Wilson</td>\n",
              "      <td>Mark Twain/Michael Prichard</td>\n",
              "      <td>3.79</td>\n",
              "      <td>140015068X</td>\n",
              "      <td>9781400150687</td>\n",
              "      <td>eng</td>\n",
              "      <td>0</td>\n",
              "      <td>3</td>\n",
              "      <td>0</td>\n",
              "      <td>1/1/2003</td>\n",
              "      <td>Tantor Media</td>\n",
              "    </tr>\n",
              "    <tr>\n",
              "      <th>3593</th>\n",
              "      <td>Murder by Moonlight &amp; Other Mysteries (New Adv...</td>\n",
              "      <td>NOT A BOOK</td>\n",
              "      <td>4.00</td>\n",
              "      <td>0743564677</td>\n",
              "      <td>9780743564670</td>\n",
              "      <td>eng</td>\n",
              "      <td>0</td>\n",
              "      <td>7</td>\n",
              "      <td>2</td>\n",
              "      <td>10/3/2006</td>\n",
              "      <td>Simon  Schuster Audio</td>\n",
              "    </tr>\n",
              "    <tr>\n",
              "      <th>3599</th>\n",
              "      <td>The Unfortunate Tobacconist &amp; Other Mysteries ...</td>\n",
              "      <td>NOT A BOOK</td>\n",
              "      <td>3.50</td>\n",
              "      <td>074353395X</td>\n",
              "      <td>9780743533959</td>\n",
              "      <td>eng</td>\n",
              "      <td>0</td>\n",
              "      <td>12</td>\n",
              "      <td>1</td>\n",
              "      <td>10/1/2003</td>\n",
              "      <td>Simon &amp; Schuster Audio</td>\n",
              "    </tr>\n",
              "    <tr>\n",
              "      <th>4249</th>\n",
              "      <td>The Da Vinci Code (Robert Langdon  #2)</td>\n",
              "      <td>Dan Brown/Paul Michael</td>\n",
              "      <td>3.84</td>\n",
              "      <td>0739339788</td>\n",
              "      <td>9780739339787</td>\n",
              "      <td>eng</td>\n",
              "      <td>0</td>\n",
              "      <td>91</td>\n",
              "      <td>16</td>\n",
              "      <td>3/28/2006</td>\n",
              "      <td>Random House Audio</td>\n",
              "    </tr>\n",
              "    <tr>\n",
              "      <th>...</th>\n",
              "      <td>...</td>\n",
              "      <td>...</td>\n",
              "      <td>...</td>\n",
              "      <td>...</td>\n",
              "      <td>...</td>\n",
              "      <td>...</td>\n",
              "      <td>...</td>\n",
              "      <td>...</td>\n",
              "      <td>...</td>\n",
              "      <td>...</td>\n",
              "      <td>...</td>\n",
              "    </tr>\n",
              "    <tr>\n",
              "      <th>40378</th>\n",
              "      <td>The Chessmen of Mars (Barsoom #5)</td>\n",
              "      <td>Edgar Rice Burroughs/John Bolen</td>\n",
              "      <td>3.83</td>\n",
              "      <td>1400130212</td>\n",
              "      <td>9781400130214</td>\n",
              "      <td>eng</td>\n",
              "      <td>0</td>\n",
              "      <td>5147</td>\n",
              "      <td>157</td>\n",
              "      <td>1/1/2005</td>\n",
              "      <td>Tantor Media</td>\n",
              "    </tr>\n",
              "    <tr>\n",
              "      <th>41273</th>\n",
              "      <td>Fine Lines (One-Eyed Mack  #6)</td>\n",
              "      <td>Jim Lehrer</td>\n",
              "      <td>3.23</td>\n",
              "      <td>0517164353</td>\n",
              "      <td>9780517164358</td>\n",
              "      <td>eng</td>\n",
              "      <td>0</td>\n",
              "      <td>17</td>\n",
              "      <td>4</td>\n",
              "      <td>11/19/1995</td>\n",
              "      <td>Random House Value Publishing</td>\n",
              "    </tr>\n",
              "    <tr>\n",
              "      <th>43343</th>\n",
              "      <td>Stowaway and Milk Run: Two Unabridged Stories ...</td>\n",
              "      <td>Mary Higgins Clark/Jan Maxwell</td>\n",
              "      <td>3.49</td>\n",
              "      <td>0671046241</td>\n",
              "      <td>9780671046248</td>\n",
              "      <td>eng</td>\n",
              "      <td>0</td>\n",
              "      <td>64</td>\n",
              "      <td>2</td>\n",
              "      <td>12/1/1999</td>\n",
              "      <td>Simon &amp; Schuster Audio</td>\n",
              "    </tr>\n",
              "    <tr>\n",
              "      <th>44748</th>\n",
              "      <td>The Mask of the Enchantress</td>\n",
              "      <td>Victoria Holt</td>\n",
              "      <td>3.85</td>\n",
              "      <td>0449210847</td>\n",
              "      <td>9780449210840</td>\n",
              "      <td>eng</td>\n",
              "      <td>0</td>\n",
              "      <td>21</td>\n",
              "      <td>1</td>\n",
              "      <td>10/12/1981</td>\n",
              "      <td>Ivy Books</td>\n",
              "    </tr>\n",
              "    <tr>\n",
              "      <th>45472</th>\n",
              "      <td>Treasury of American Tall Tales: Volume 1: Dav...</td>\n",
              "      <td>David Bromberg/Jay Ungar/Molly Mason/Garrison ...</td>\n",
              "      <td>3.86</td>\n",
              "      <td>0739336509</td>\n",
              "      <td>9780739336502</td>\n",
              "      <td>eng</td>\n",
              "      <td>0</td>\n",
              "      <td>36</td>\n",
              "      <td>9</td>\n",
              "      <td>8/22/2006</td>\n",
              "      <td>Listening Library (Audio)</td>\n",
              "    </tr>\n",
              "  </tbody>\n",
              "</table>\n",
              "<p>76 rows × 11 columns</p>\n",
              "</div>\n",
              "    <div class=\"colab-df-buttons\">\n",
              "\n",
              "  <div class=\"colab-df-container\">\n",
              "    <button class=\"colab-df-convert\" onclick=\"convertToInteractive('df-be83f337-e548-43d4-a2da-e9703ff5503c')\"\n",
              "            title=\"Convert this dataframe to an interactive table.\"\n",
              "            style=\"display:none;\">\n",
              "\n",
              "  <svg xmlns=\"http://www.w3.org/2000/svg\" height=\"24px\" viewBox=\"0 -960 960 960\">\n",
              "    <path d=\"M120-120v-720h720v720H120Zm60-500h600v-160H180v160Zm220 220h160v-160H400v160Zm0 220h160v-160H400v160ZM180-400h160v-160H180v160Zm440 0h160v-160H620v160ZM180-180h160v-160H180v160Zm440 0h160v-160H620v160Z\"/>\n",
              "  </svg>\n",
              "    </button>\n",
              "\n",
              "  <style>\n",
              "    .colab-df-container {\n",
              "      display:flex;\n",
              "      gap: 12px;\n",
              "    }\n",
              "\n",
              "    .colab-df-convert {\n",
              "      background-color: #E8F0FE;\n",
              "      border: none;\n",
              "      border-radius: 50%;\n",
              "      cursor: pointer;\n",
              "      display: none;\n",
              "      fill: #1967D2;\n",
              "      height: 32px;\n",
              "      padding: 0 0 0 0;\n",
              "      width: 32px;\n",
              "    }\n",
              "\n",
              "    .colab-df-convert:hover {\n",
              "      background-color: #E2EBFA;\n",
              "      box-shadow: 0px 1px 2px rgba(60, 64, 67, 0.3), 0px 1px 3px 1px rgba(60, 64, 67, 0.15);\n",
              "      fill: #174EA6;\n",
              "    }\n",
              "\n",
              "    .colab-df-buttons div {\n",
              "      margin-bottom: 4px;\n",
              "    }\n",
              "\n",
              "    [theme=dark] .colab-df-convert {\n",
              "      background-color: #3B4455;\n",
              "      fill: #D2E3FC;\n",
              "    }\n",
              "\n",
              "    [theme=dark] .colab-df-convert:hover {\n",
              "      background-color: #434B5C;\n",
              "      box-shadow: 0px 1px 3px 1px rgba(0, 0, 0, 0.15);\n",
              "      filter: drop-shadow(0px 1px 2px rgba(0, 0, 0, 0.3));\n",
              "      fill: #FFFFFF;\n",
              "    }\n",
              "  </style>\n",
              "\n",
              "    <script>\n",
              "      const buttonEl =\n",
              "        document.querySelector('#df-be83f337-e548-43d4-a2da-e9703ff5503c button.colab-df-convert');\n",
              "      buttonEl.style.display =\n",
              "        google.colab.kernel.accessAllowed ? 'block' : 'none';\n",
              "\n",
              "      async function convertToInteractive(key) {\n",
              "        const element = document.querySelector('#df-be83f337-e548-43d4-a2da-e9703ff5503c');\n",
              "        const dataTable =\n",
              "          await google.colab.kernel.invokeFunction('convertToInteractive',\n",
              "                                                    [key], {});\n",
              "        if (!dataTable) return;\n",
              "\n",
              "        const docLinkHtml = 'Like what you see? Visit the ' +\n",
              "          '<a target=\"_blank\" href=https://colab.research.google.com/notebooks/data_table.ipynb>data table notebook</a>'\n",
              "          + ' to learn more about interactive tables.';\n",
              "        element.innerHTML = '';\n",
              "        dataTable['output_type'] = 'display_data';\n",
              "        await google.colab.output.renderOutput(dataTable, element);\n",
              "        const docLink = document.createElement('div');\n",
              "        docLink.innerHTML = docLinkHtml;\n",
              "        element.appendChild(docLink);\n",
              "      }\n",
              "    </script>\n",
              "  </div>\n",
              "\n",
              "\n",
              "<div id=\"df-3009bcbd-3fb2-4eed-a1f9-c23ae70005e7\">\n",
              "  <button class=\"colab-df-quickchart\" onclick=\"quickchart('df-3009bcbd-3fb2-4eed-a1f9-c23ae70005e7')\"\n",
              "            title=\"Suggest charts.\"\n",
              "            style=\"display:none;\">\n",
              "\n",
              "<svg xmlns=\"http://www.w3.org/2000/svg\" height=\"24px\"viewBox=\"0 0 24 24\"\n",
              "     width=\"24px\">\n",
              "    <g>\n",
              "        <path d=\"M19 3H5c-1.1 0-2 .9-2 2v14c0 1.1.9 2 2 2h14c1.1 0 2-.9 2-2V5c0-1.1-.9-2-2-2zM9 17H7v-7h2v7zm4 0h-2V7h2v10zm4 0h-2v-4h2v4z\"/>\n",
              "    </g>\n",
              "</svg>\n",
              "  </button>\n",
              "\n",
              "<style>\n",
              "  .colab-df-quickchart {\n",
              "    background-color: #E8F0FE;\n",
              "    border: none;\n",
              "    border-radius: 50%;\n",
              "    cursor: pointer;\n",
              "    display: none;\n",
              "    fill: #1967D2;\n",
              "    height: 32px;\n",
              "    padding: 0 0 0 0;\n",
              "    width: 32px;\n",
              "  }\n",
              "\n",
              "  .colab-df-quickchart:hover {\n",
              "    background-color: #E2EBFA;\n",
              "    box-shadow: 0px 1px 2px rgba(60, 64, 67, 0.3), 0px 1px 3px 1px rgba(60, 64, 67, 0.15);\n",
              "    fill: #174EA6;\n",
              "  }\n",
              "\n",
              "  [theme=dark] .colab-df-quickchart {\n",
              "    background-color: #3B4455;\n",
              "    fill: #D2E3FC;\n",
              "  }\n",
              "\n",
              "  [theme=dark] .colab-df-quickchart:hover {\n",
              "    background-color: #434B5C;\n",
              "    box-shadow: 0px 1px 3px 1px rgba(0, 0, 0, 0.15);\n",
              "    filter: drop-shadow(0px 1px 2px rgba(0, 0, 0, 0.3));\n",
              "    fill: #FFFFFF;\n",
              "  }\n",
              "</style>\n",
              "\n",
              "  <script>\n",
              "    async function quickchart(key) {\n",
              "      const charts = await google.colab.kernel.invokeFunction(\n",
              "          'suggestCharts', [key], {});\n",
              "    }\n",
              "    (() => {\n",
              "      let quickchartButtonEl =\n",
              "        document.querySelector('#df-3009bcbd-3fb2-4eed-a1f9-c23ae70005e7 button');\n",
              "      quickchartButtonEl.style.display =\n",
              "        google.colab.kernel.accessAllowed ? 'block' : 'none';\n",
              "    })();\n",
              "  </script>\n",
              "</div>\n",
              "    </div>\n",
              "  </div>\n"
            ]
          },
          "metadata": {},
          "execution_count": 12
        }
      ],
      "source": [
        "df_book[df_book[\"  num_pages\"]==0]   # Print all the books that have 0 page"
      ],
      "metadata": {
        "id": "6GpJkpWhui_p",
        "colab": {
          "base_uri": "https://localhost:8080/",
          "height": 941
        },
        "outputId": "8ac3c302-ed96-4988-d0c5-b0f7eedb9a51"
      }
    },
    {
      "cell_type": "markdown",
      "source": [
        "In the table above we can see there are 76 books that have 0 page.\n",
        "In addition, we can notice that there are authors named `NOT A BOOK`, which need further examination."
      ],
      "metadata": {
        "collapsed": false,
        "id": "nGu3VAa1ui_p"
      }
    },
    {
      "cell_type": "code",
      "execution_count": 13,
      "outputs": [
        {
          "output_type": "execute_result",
          "data": {
            "text/plain": [
              "                                                    title     authors  \\\n",
              "bookID                                                                  \n",
              "3593    Murder by Moonlight & Other Mysteries (New Adv...  NOT A BOOK   \n",
              "3599    The Unfortunate Tobacconist & Other Mysteries ...  NOT A BOOK   \n",
              "19786   The Goon Show  Volume 4: My Knees Have Fallen ...  NOT A BOOK   \n",
              "19787              The Goon Show: Moriarty Where Are You?  NOT A BOOK   \n",
              "19788   The Goon Show  Volume 11: He's Fallen in the W...  NOT A BOOK   \n",
              "\n",
              "        average_rating        isbn         isbn13 language_code    num_pages  \\\n",
              "bookID                                                                         \n",
              "3593              4.00  0743564677  9780743564670           eng            0   \n",
              "3599              3.50  074353395X  9780743533959           eng            0   \n",
              "19786             5.00  0563388692  9780563388692           eng            2   \n",
              "19787             4.43  0563388544  9780563388548           eng            2   \n",
              "19788             5.00  0563388323  9780563388326           eng            2   \n",
              "\n",
              "        ratings_count  text_reviews_count publication_date  \\\n",
              "bookID                                                       \n",
              "3593                7                   2        10/3/2006   \n",
              "3599               12                   1        10/1/2003   \n",
              "19786               3                   0         4/1/1996   \n",
              "19787               0                   0        3/30/2005   \n",
              "19788               2                   0        10/2/1995   \n",
              "\n",
              "                     publisher  \n",
              "bookID                          \n",
              "3593     Simon  Schuster Audio  \n",
              "3599    Simon & Schuster Audio  \n",
              "19786       BBC Physical Audio  \n",
              "19787       BBC Physical Audio  \n",
              "19788       BBC Physical Audio  "
            ],
            "text/html": [
              "\n",
              "  <div id=\"df-8a7b6521-9244-41c5-b18f-cb0d646dcefa\" class=\"colab-df-container\">\n",
              "    <div>\n",
              "<style scoped>\n",
              "    .dataframe tbody tr th:only-of-type {\n",
              "        vertical-align: middle;\n",
              "    }\n",
              "\n",
              "    .dataframe tbody tr th {\n",
              "        vertical-align: top;\n",
              "    }\n",
              "\n",
              "    .dataframe thead th {\n",
              "        text-align: right;\n",
              "    }\n",
              "</style>\n",
              "<table border=\"1\" class=\"dataframe\">\n",
              "  <thead>\n",
              "    <tr style=\"text-align: right;\">\n",
              "      <th></th>\n",
              "      <th>title</th>\n",
              "      <th>authors</th>\n",
              "      <th>average_rating</th>\n",
              "      <th>isbn</th>\n",
              "      <th>isbn13</th>\n",
              "      <th>language_code</th>\n",
              "      <th>num_pages</th>\n",
              "      <th>ratings_count</th>\n",
              "      <th>text_reviews_count</th>\n",
              "      <th>publication_date</th>\n",
              "      <th>publisher</th>\n",
              "    </tr>\n",
              "    <tr>\n",
              "      <th>bookID</th>\n",
              "      <th></th>\n",
              "      <th></th>\n",
              "      <th></th>\n",
              "      <th></th>\n",
              "      <th></th>\n",
              "      <th></th>\n",
              "      <th></th>\n",
              "      <th></th>\n",
              "      <th></th>\n",
              "      <th></th>\n",
              "      <th></th>\n",
              "    </tr>\n",
              "  </thead>\n",
              "  <tbody>\n",
              "    <tr>\n",
              "      <th>3593</th>\n",
              "      <td>Murder by Moonlight &amp; Other Mysteries (New Adv...</td>\n",
              "      <td>NOT A BOOK</td>\n",
              "      <td>4.00</td>\n",
              "      <td>0743564677</td>\n",
              "      <td>9780743564670</td>\n",
              "      <td>eng</td>\n",
              "      <td>0</td>\n",
              "      <td>7</td>\n",
              "      <td>2</td>\n",
              "      <td>10/3/2006</td>\n",
              "      <td>Simon  Schuster Audio</td>\n",
              "    </tr>\n",
              "    <tr>\n",
              "      <th>3599</th>\n",
              "      <td>The Unfortunate Tobacconist &amp; Other Mysteries ...</td>\n",
              "      <td>NOT A BOOK</td>\n",
              "      <td>3.50</td>\n",
              "      <td>074353395X</td>\n",
              "      <td>9780743533959</td>\n",
              "      <td>eng</td>\n",
              "      <td>0</td>\n",
              "      <td>12</td>\n",
              "      <td>1</td>\n",
              "      <td>10/1/2003</td>\n",
              "      <td>Simon &amp; Schuster Audio</td>\n",
              "    </tr>\n",
              "    <tr>\n",
              "      <th>19786</th>\n",
              "      <td>The Goon Show  Volume 4: My Knees Have Fallen ...</td>\n",
              "      <td>NOT A BOOK</td>\n",
              "      <td>5.00</td>\n",
              "      <td>0563388692</td>\n",
              "      <td>9780563388692</td>\n",
              "      <td>eng</td>\n",
              "      <td>2</td>\n",
              "      <td>3</td>\n",
              "      <td>0</td>\n",
              "      <td>4/1/1996</td>\n",
              "      <td>BBC Physical Audio</td>\n",
              "    </tr>\n",
              "    <tr>\n",
              "      <th>19787</th>\n",
              "      <td>The Goon Show: Moriarty Where Are You?</td>\n",
              "      <td>NOT A BOOK</td>\n",
              "      <td>4.43</td>\n",
              "      <td>0563388544</td>\n",
              "      <td>9780563388548</td>\n",
              "      <td>eng</td>\n",
              "      <td>2</td>\n",
              "      <td>0</td>\n",
              "      <td>0</td>\n",
              "      <td>3/30/2005</td>\n",
              "      <td>BBC Physical Audio</td>\n",
              "    </tr>\n",
              "    <tr>\n",
              "      <th>19788</th>\n",
              "      <td>The Goon Show  Volume 11: He's Fallen in the W...</td>\n",
              "      <td>NOT A BOOK</td>\n",
              "      <td>5.00</td>\n",
              "      <td>0563388323</td>\n",
              "      <td>9780563388326</td>\n",
              "      <td>eng</td>\n",
              "      <td>2</td>\n",
              "      <td>2</td>\n",
              "      <td>0</td>\n",
              "      <td>10/2/1995</td>\n",
              "      <td>BBC Physical Audio</td>\n",
              "    </tr>\n",
              "  </tbody>\n",
              "</table>\n",
              "</div>\n",
              "    <div class=\"colab-df-buttons\">\n",
              "\n",
              "  <div class=\"colab-df-container\">\n",
              "    <button class=\"colab-df-convert\" onclick=\"convertToInteractive('df-8a7b6521-9244-41c5-b18f-cb0d646dcefa')\"\n",
              "            title=\"Convert this dataframe to an interactive table.\"\n",
              "            style=\"display:none;\">\n",
              "\n",
              "  <svg xmlns=\"http://www.w3.org/2000/svg\" height=\"24px\" viewBox=\"0 -960 960 960\">\n",
              "    <path d=\"M120-120v-720h720v720H120Zm60-500h600v-160H180v160Zm220 220h160v-160H400v160Zm0 220h160v-160H400v160ZM180-400h160v-160H180v160Zm440 0h160v-160H620v160ZM180-180h160v-160H180v160Zm440 0h160v-160H620v160Z\"/>\n",
              "  </svg>\n",
              "    </button>\n",
              "\n",
              "  <style>\n",
              "    .colab-df-container {\n",
              "      display:flex;\n",
              "      gap: 12px;\n",
              "    }\n",
              "\n",
              "    .colab-df-convert {\n",
              "      background-color: #E8F0FE;\n",
              "      border: none;\n",
              "      border-radius: 50%;\n",
              "      cursor: pointer;\n",
              "      display: none;\n",
              "      fill: #1967D2;\n",
              "      height: 32px;\n",
              "      padding: 0 0 0 0;\n",
              "      width: 32px;\n",
              "    }\n",
              "\n",
              "    .colab-df-convert:hover {\n",
              "      background-color: #E2EBFA;\n",
              "      box-shadow: 0px 1px 2px rgba(60, 64, 67, 0.3), 0px 1px 3px 1px rgba(60, 64, 67, 0.15);\n",
              "      fill: #174EA6;\n",
              "    }\n",
              "\n",
              "    .colab-df-buttons div {\n",
              "      margin-bottom: 4px;\n",
              "    }\n",
              "\n",
              "    [theme=dark] .colab-df-convert {\n",
              "      background-color: #3B4455;\n",
              "      fill: #D2E3FC;\n",
              "    }\n",
              "\n",
              "    [theme=dark] .colab-df-convert:hover {\n",
              "      background-color: #434B5C;\n",
              "      box-shadow: 0px 1px 3px 1px rgba(0, 0, 0, 0.15);\n",
              "      filter: drop-shadow(0px 1px 2px rgba(0, 0, 0, 0.3));\n",
              "      fill: #FFFFFF;\n",
              "    }\n",
              "  </style>\n",
              "\n",
              "    <script>\n",
              "      const buttonEl =\n",
              "        document.querySelector('#df-8a7b6521-9244-41c5-b18f-cb0d646dcefa button.colab-df-convert');\n",
              "      buttonEl.style.display =\n",
              "        google.colab.kernel.accessAllowed ? 'block' : 'none';\n",
              "\n",
              "      async function convertToInteractive(key) {\n",
              "        const element = document.querySelector('#df-8a7b6521-9244-41c5-b18f-cb0d646dcefa');\n",
              "        const dataTable =\n",
              "          await google.colab.kernel.invokeFunction('convertToInteractive',\n",
              "                                                    [key], {});\n",
              "        if (!dataTable) return;\n",
              "\n",
              "        const docLinkHtml = 'Like what you see? Visit the ' +\n",
              "          '<a target=\"_blank\" href=https://colab.research.google.com/notebooks/data_table.ipynb>data table notebook</a>'\n",
              "          + ' to learn more about interactive tables.';\n",
              "        element.innerHTML = '';\n",
              "        dataTable['output_type'] = 'display_data';\n",
              "        await google.colab.output.renderOutput(dataTable, element);\n",
              "        const docLink = document.createElement('div');\n",
              "        docLink.innerHTML = docLinkHtml;\n",
              "        element.appendChild(docLink);\n",
              "      }\n",
              "    </script>\n",
              "  </div>\n",
              "\n",
              "\n",
              "<div id=\"df-fd1b70eb-259e-4b6d-8da3-f26761b3f42d\">\n",
              "  <button class=\"colab-df-quickchart\" onclick=\"quickchart('df-fd1b70eb-259e-4b6d-8da3-f26761b3f42d')\"\n",
              "            title=\"Suggest charts.\"\n",
              "            style=\"display:none;\">\n",
              "\n",
              "<svg xmlns=\"http://www.w3.org/2000/svg\" height=\"24px\"viewBox=\"0 0 24 24\"\n",
              "     width=\"24px\">\n",
              "    <g>\n",
              "        <path d=\"M19 3H5c-1.1 0-2 .9-2 2v14c0 1.1.9 2 2 2h14c1.1 0 2-.9 2-2V5c0-1.1-.9-2-2-2zM9 17H7v-7h2v7zm4 0h-2V7h2v10zm4 0h-2v-4h2v4z\"/>\n",
              "    </g>\n",
              "</svg>\n",
              "  </button>\n",
              "\n",
              "<style>\n",
              "  .colab-df-quickchart {\n",
              "    background-color: #E8F0FE;\n",
              "    border: none;\n",
              "    border-radius: 50%;\n",
              "    cursor: pointer;\n",
              "    display: none;\n",
              "    fill: #1967D2;\n",
              "    height: 32px;\n",
              "    padding: 0 0 0 0;\n",
              "    width: 32px;\n",
              "  }\n",
              "\n",
              "  .colab-df-quickchart:hover {\n",
              "    background-color: #E2EBFA;\n",
              "    box-shadow: 0px 1px 2px rgba(60, 64, 67, 0.3), 0px 1px 3px 1px rgba(60, 64, 67, 0.15);\n",
              "    fill: #174EA6;\n",
              "  }\n",
              "\n",
              "  [theme=dark] .colab-df-quickchart {\n",
              "    background-color: #3B4455;\n",
              "    fill: #D2E3FC;\n",
              "  }\n",
              "\n",
              "  [theme=dark] .colab-df-quickchart:hover {\n",
              "    background-color: #434B5C;\n",
              "    box-shadow: 0px 1px 3px 1px rgba(0, 0, 0, 0.15);\n",
              "    filter: drop-shadow(0px 1px 2px rgba(0, 0, 0, 0.3));\n",
              "    fill: #FFFFFF;\n",
              "  }\n",
              "</style>\n",
              "\n",
              "  <script>\n",
              "    async function quickchart(key) {\n",
              "      const charts = await google.colab.kernel.invokeFunction(\n",
              "          'suggestCharts', [key], {});\n",
              "    }\n",
              "    (() => {\n",
              "      let quickchartButtonEl =\n",
              "        document.querySelector('#df-fd1b70eb-259e-4b6d-8da3-f26761b3f42d button');\n",
              "      quickchartButtonEl.style.display =\n",
              "        google.colab.kernel.accessAllowed ? 'block' : 'none';\n",
              "    })();\n",
              "  </script>\n",
              "</div>\n",
              "    </div>\n",
              "  </div>\n"
            ]
          },
          "metadata": {},
          "execution_count": 13
        }
      ],
      "source": [
        "df_book.loc[df_book.authors==\"NOT A BOOK\", :]   # Print all the books whose author is \"NOT A BOOK\"\n",
        "# df_book[df_book.authors=='NOT A BOOK']  is also valid"
      ],
      "metadata": {
        "id": "bQSePC02ui_p",
        "colab": {
          "base_uri": "https://localhost:8080/",
          "height": 411
        },
        "outputId": "630fc6cf-a9c7-4769-baff-ebfefae4612d"
      }
    },
    {
      "cell_type": "markdown",
      "source": [
        "So, there are 5 books whose author names are marked as `NOT A BOOK`. If searching these 5 items' name on Google, it is easy to realize that all of them are CDs, not books. Therefore, these 5 records should be removed from the dataset.\n",
        "In table above, one can see that there are books whos `rating_counts` is 0. So it is interesting to see how many books are in this situation."
      ],
      "metadata": {
        "collapsed": false,
        "id": "5_OxxQ2Eui_q"
      }
    },
    {
      "cell_type": "code",
      "source": [
        "# List all the books who have 0 rating.\n",
        "df_book.loc[df_book['ratings_count']==0, ['ratings_count', 'text_reviews_count', 'average_rating']]"
      ],
      "metadata": {
        "id": "GcSQHK1VZjVM",
        "colab": {
          "base_uri": "https://localhost:8080/",
          "height": 455
        },
        "outputId": "bb0ce43e-7da1-4365-e288-75dd619941a3"
      },
      "execution_count": 14,
      "outputs": [
        {
          "output_type": "execute_result",
          "data": {
            "text/plain": [
              "        ratings_count  text_reviews_count  average_rating\n",
              "bookID                                                   \n",
              "797                 0                   0            4.03\n",
              "799                 0                   0            0.00\n",
              "1302                0                   0            0.00\n",
              "1658                0                   0            2.83\n",
              "1664                0                   0            3.50\n",
              "...               ...                 ...             ...\n",
              "42863               0                   0            3.44\n",
              "44321               0                   0            3.58\n",
              "44433               0                   0            3.50\n",
              "44705               0                   0            0.00\n",
              "45259               0                   0            0.00\n",
              "\n",
              "[81 rows x 3 columns]"
            ],
            "text/html": [
              "\n",
              "  <div id=\"df-48d87574-cab2-4f26-affa-73f81faf710a\" class=\"colab-df-container\">\n",
              "    <div>\n",
              "<style scoped>\n",
              "    .dataframe tbody tr th:only-of-type {\n",
              "        vertical-align: middle;\n",
              "    }\n",
              "\n",
              "    .dataframe tbody tr th {\n",
              "        vertical-align: top;\n",
              "    }\n",
              "\n",
              "    .dataframe thead th {\n",
              "        text-align: right;\n",
              "    }\n",
              "</style>\n",
              "<table border=\"1\" class=\"dataframe\">\n",
              "  <thead>\n",
              "    <tr style=\"text-align: right;\">\n",
              "      <th></th>\n",
              "      <th>ratings_count</th>\n",
              "      <th>text_reviews_count</th>\n",
              "      <th>average_rating</th>\n",
              "    </tr>\n",
              "    <tr>\n",
              "      <th>bookID</th>\n",
              "      <th></th>\n",
              "      <th></th>\n",
              "      <th></th>\n",
              "    </tr>\n",
              "  </thead>\n",
              "  <tbody>\n",
              "    <tr>\n",
              "      <th>797</th>\n",
              "      <td>0</td>\n",
              "      <td>0</td>\n",
              "      <td>4.03</td>\n",
              "    </tr>\n",
              "    <tr>\n",
              "      <th>799</th>\n",
              "      <td>0</td>\n",
              "      <td>0</td>\n",
              "      <td>0.00</td>\n",
              "    </tr>\n",
              "    <tr>\n",
              "      <th>1302</th>\n",
              "      <td>0</td>\n",
              "      <td>0</td>\n",
              "      <td>0.00</td>\n",
              "    </tr>\n",
              "    <tr>\n",
              "      <th>1658</th>\n",
              "      <td>0</td>\n",
              "      <td>0</td>\n",
              "      <td>2.83</td>\n",
              "    </tr>\n",
              "    <tr>\n",
              "      <th>1664</th>\n",
              "      <td>0</td>\n",
              "      <td>0</td>\n",
              "      <td>3.50</td>\n",
              "    </tr>\n",
              "    <tr>\n",
              "      <th>...</th>\n",
              "      <td>...</td>\n",
              "      <td>...</td>\n",
              "      <td>...</td>\n",
              "    </tr>\n",
              "    <tr>\n",
              "      <th>42863</th>\n",
              "      <td>0</td>\n",
              "      <td>0</td>\n",
              "      <td>3.44</td>\n",
              "    </tr>\n",
              "    <tr>\n",
              "      <th>44321</th>\n",
              "      <td>0</td>\n",
              "      <td>0</td>\n",
              "      <td>3.58</td>\n",
              "    </tr>\n",
              "    <tr>\n",
              "      <th>44433</th>\n",
              "      <td>0</td>\n",
              "      <td>0</td>\n",
              "      <td>3.50</td>\n",
              "    </tr>\n",
              "    <tr>\n",
              "      <th>44705</th>\n",
              "      <td>0</td>\n",
              "      <td>0</td>\n",
              "      <td>0.00</td>\n",
              "    </tr>\n",
              "    <tr>\n",
              "      <th>45259</th>\n",
              "      <td>0</td>\n",
              "      <td>0</td>\n",
              "      <td>0.00</td>\n",
              "    </tr>\n",
              "  </tbody>\n",
              "</table>\n",
              "<p>81 rows × 3 columns</p>\n",
              "</div>\n",
              "    <div class=\"colab-df-buttons\">\n",
              "\n",
              "  <div class=\"colab-df-container\">\n",
              "    <button class=\"colab-df-convert\" onclick=\"convertToInteractive('df-48d87574-cab2-4f26-affa-73f81faf710a')\"\n",
              "            title=\"Convert this dataframe to an interactive table.\"\n",
              "            style=\"display:none;\">\n",
              "\n",
              "  <svg xmlns=\"http://www.w3.org/2000/svg\" height=\"24px\" viewBox=\"0 -960 960 960\">\n",
              "    <path d=\"M120-120v-720h720v720H120Zm60-500h600v-160H180v160Zm220 220h160v-160H400v160Zm0 220h160v-160H400v160ZM180-400h160v-160H180v160Zm440 0h160v-160H620v160ZM180-180h160v-160H180v160Zm440 0h160v-160H620v160Z\"/>\n",
              "  </svg>\n",
              "    </button>\n",
              "\n",
              "  <style>\n",
              "    .colab-df-container {\n",
              "      display:flex;\n",
              "      gap: 12px;\n",
              "    }\n",
              "\n",
              "    .colab-df-convert {\n",
              "      background-color: #E8F0FE;\n",
              "      border: none;\n",
              "      border-radius: 50%;\n",
              "      cursor: pointer;\n",
              "      display: none;\n",
              "      fill: #1967D2;\n",
              "      height: 32px;\n",
              "      padding: 0 0 0 0;\n",
              "      width: 32px;\n",
              "    }\n",
              "\n",
              "    .colab-df-convert:hover {\n",
              "      background-color: #E2EBFA;\n",
              "      box-shadow: 0px 1px 2px rgba(60, 64, 67, 0.3), 0px 1px 3px 1px rgba(60, 64, 67, 0.15);\n",
              "      fill: #174EA6;\n",
              "    }\n",
              "\n",
              "    .colab-df-buttons div {\n",
              "      margin-bottom: 4px;\n",
              "    }\n",
              "\n",
              "    [theme=dark] .colab-df-convert {\n",
              "      background-color: #3B4455;\n",
              "      fill: #D2E3FC;\n",
              "    }\n",
              "\n",
              "    [theme=dark] .colab-df-convert:hover {\n",
              "      background-color: #434B5C;\n",
              "      box-shadow: 0px 1px 3px 1px rgba(0, 0, 0, 0.15);\n",
              "      filter: drop-shadow(0px 1px 2px rgba(0, 0, 0, 0.3));\n",
              "      fill: #FFFFFF;\n",
              "    }\n",
              "  </style>\n",
              "\n",
              "    <script>\n",
              "      const buttonEl =\n",
              "        document.querySelector('#df-48d87574-cab2-4f26-affa-73f81faf710a button.colab-df-convert');\n",
              "      buttonEl.style.display =\n",
              "        google.colab.kernel.accessAllowed ? 'block' : 'none';\n",
              "\n",
              "      async function convertToInteractive(key) {\n",
              "        const element = document.querySelector('#df-48d87574-cab2-4f26-affa-73f81faf710a');\n",
              "        const dataTable =\n",
              "          await google.colab.kernel.invokeFunction('convertToInteractive',\n",
              "                                                    [key], {});\n",
              "        if (!dataTable) return;\n",
              "\n",
              "        const docLinkHtml = 'Like what you see? Visit the ' +\n",
              "          '<a target=\"_blank\" href=https://colab.research.google.com/notebooks/data_table.ipynb>data table notebook</a>'\n",
              "          + ' to learn more about interactive tables.';\n",
              "        element.innerHTML = '';\n",
              "        dataTable['output_type'] = 'display_data';\n",
              "        await google.colab.output.renderOutput(dataTable, element);\n",
              "        const docLink = document.createElement('div');\n",
              "        docLink.innerHTML = docLinkHtml;\n",
              "        element.appendChild(docLink);\n",
              "      }\n",
              "    </script>\n",
              "  </div>\n",
              "\n",
              "\n",
              "<div id=\"df-b6240f93-42f0-4d8a-b22f-8cdd27d04c68\">\n",
              "  <button class=\"colab-df-quickchart\" onclick=\"quickchart('df-b6240f93-42f0-4d8a-b22f-8cdd27d04c68')\"\n",
              "            title=\"Suggest charts.\"\n",
              "            style=\"display:none;\">\n",
              "\n",
              "<svg xmlns=\"http://www.w3.org/2000/svg\" height=\"24px\"viewBox=\"0 0 24 24\"\n",
              "     width=\"24px\">\n",
              "    <g>\n",
              "        <path d=\"M19 3H5c-1.1 0-2 .9-2 2v14c0 1.1.9 2 2 2h14c1.1 0 2-.9 2-2V5c0-1.1-.9-2-2-2zM9 17H7v-7h2v7zm4 0h-2V7h2v10zm4 0h-2v-4h2v4z\"/>\n",
              "    </g>\n",
              "</svg>\n",
              "  </button>\n",
              "\n",
              "<style>\n",
              "  .colab-df-quickchart {\n",
              "    background-color: #E8F0FE;\n",
              "    border: none;\n",
              "    border-radius: 50%;\n",
              "    cursor: pointer;\n",
              "    display: none;\n",
              "    fill: #1967D2;\n",
              "    height: 32px;\n",
              "    padding: 0 0 0 0;\n",
              "    width: 32px;\n",
              "  }\n",
              "\n",
              "  .colab-df-quickchart:hover {\n",
              "    background-color: #E2EBFA;\n",
              "    box-shadow: 0px 1px 2px rgba(60, 64, 67, 0.3), 0px 1px 3px 1px rgba(60, 64, 67, 0.15);\n",
              "    fill: #174EA6;\n",
              "  }\n",
              "\n",
              "  [theme=dark] .colab-df-quickchart {\n",
              "    background-color: #3B4455;\n",
              "    fill: #D2E3FC;\n",
              "  }\n",
              "\n",
              "  [theme=dark] .colab-df-quickchart:hover {\n",
              "    background-color: #434B5C;\n",
              "    box-shadow: 0px 1px 3px 1px rgba(0, 0, 0, 0.15);\n",
              "    filter: drop-shadow(0px 1px 2px rgba(0, 0, 0, 0.3));\n",
              "    fill: #FFFFFF;\n",
              "  }\n",
              "</style>\n",
              "\n",
              "  <script>\n",
              "    async function quickchart(key) {\n",
              "      const charts = await google.colab.kernel.invokeFunction(\n",
              "          'suggestCharts', [key], {});\n",
              "    }\n",
              "    (() => {\n",
              "      let quickchartButtonEl =\n",
              "        document.querySelector('#df-b6240f93-42f0-4d8a-b22f-8cdd27d04c68 button');\n",
              "      quickchartButtonEl.style.display =\n",
              "        google.colab.kernel.accessAllowed ? 'block' : 'none';\n",
              "    })();\n",
              "  </script>\n",
              "</div>\n",
              "    </div>\n",
              "  </div>\n"
            ]
          },
          "metadata": {},
          "execution_count": 14
        }
      ]
    },
    {
      "cell_type": "markdown",
      "source": [
        "In the table above it can be seen that both `ratings_count` and `text_reviews_count` are 0 for these books. Logically `ratings_count`= 0 must lead to `average_rating`=0. So we need to drop all the records where `ratings_count`= 0 and `average_rating`$\\neq$0, because they are mis-leading for machine learning model."
      ],
      "metadata": {
        "id": "vBXYIoHTbinL"
      }
    },
    {
      "cell_type": "markdown",
      "source": [
        "### Conclusion of first glance at dataset\n",
        "1. The dimension of the dataset is $11127 \\times 11$. There is no duplicated data and missing values in it.\n",
        "2. The column name `num_pages` contains 2 space characters at the beginning, which should be corrected.\n",
        "3. There are 76 books who have 0 page, which are abnormal and need further processing.\n",
        "4. There is a format inconsistency in column `language_code`, which should be checked and corrected in further processing.\n",
        "5. The values in column `publication_date` are processed as type `str`. The date should be converted to pandas `datetime` object by convention.\n",
        "6. Each book may have more than one auther in column `authors`, where the delimiter is `/`.\n",
        "7. The records whose author is `NOT A BOOK` are actually CDs, which should be removed from the dataset\n",
        "8. There are misrecorded books that have `ratings_count`= 0 and `average_rating`$\\neq$0. They all have to be dropped."
      ],
      "metadata": {
        "collapsed": false,
        "id": "1vzCx6j4ui_q"
      }
    },
    {
      "cell_type": "markdown",
      "source": [
        "# Data cleaning\n",
        "### Remove spaces in column name"
      ],
      "metadata": {
        "collapsed": false,
        "id": "Yo1UyfxRui_q"
      }
    },
    {
      "cell_type": "code",
      "execution_count": 15,
      "outputs": [
        {
          "output_type": "execute_result",
          "data": {
            "text/plain": [
              "Index(['title', 'authors', 'average_rating', 'isbn', 'isbn13', 'language_code',\n",
              "       'num_pages', 'ratings_count', 'text_reviews_count', 'publication_date',\n",
              "       'publisher'],\n",
              "      dtype='object')"
            ]
          },
          "metadata": {},
          "execution_count": 15
        }
      ],
      "source": [
        "df_book = df_book.rename(str.strip, axis='columns')   # Strip all spaces on the right or left of a column name\n",
        "# df_book.columns = df_book.columns.str.strip()   This an alternative way to do it\n",
        "df_book.columns    # Check column name. Column name should contain no space"
      ],
      "metadata": {
        "id": "4wjzruSoui_q",
        "colab": {
          "base_uri": "https://localhost:8080/"
        },
        "outputId": "b4bbe9f3-63ca-4daa-bc4a-c81db9c9f319"
      }
    },
    {
      "cell_type": "markdown",
      "source": [
        "### Correct format inconsistency in column `language_code`"
      ],
      "metadata": {
        "collapsed": false,
        "id": "Pt6zzM8Cui_q"
      }
    },
    {
      "cell_type": "code",
      "execution_count": 16,
      "outputs": [
        {
          "output_type": "execute_result",
          "data": {
            "text/plain": [
              "array(['eng', 'en-US', 'fre', 'spa', 'en-GB', 'mul', 'grc', 'enm',\n",
              "       'en-CA', 'ger', 'jpn', 'ara', 'nl', 'zho', 'lat', 'por', 'srp',\n",
              "       'ita', 'rus', 'msa', 'glg', 'wel', 'swe', 'nor', 'tur', 'gla',\n",
              "       'ale'], dtype=object)"
            ]
          },
          "metadata": {},
          "execution_count": 16
        }
      ],
      "source": [
        "df_book.language_code.unique()  # list all the language codes in the column"
      ],
      "metadata": {
        "id": "CIHdm0KUui_q",
        "colab": {
          "base_uri": "https://localhost:8080/"
        },
        "outputId": "2229b64d-bd10-4ebc-ab0c-c8beff9ecc7f"
      }
    },
    {
      "cell_type": "markdown",
      "source": [
        "There are 27 different language codes in this column, but it can be noticed that codes `eng`, `en-US`, `en-GB`, `en-CA`, and `enm` all refer to English.\n",
        "In particular, `enm` refers to Middle English (c. 1100 - c. 1500), which has a big difference with modern English. Other codes that start with `en` stand for modern English, among which there is slight difference.\n",
        "Therefore, we can assume that readers don't care much about the book is written by which kind of modern English, hence it is reasonable to replace all modern English code by `eng`。"
      ],
      "metadata": {
        "collapsed": false,
        "id": "7z6O97tBui_r"
      }
    },
    {
      "cell_type": "code",
      "execution_count": 17,
      "outputs": [],
      "source": [
        "df_book.language_code = df_book.language_code.replace(['en-US','en-GB','en-CA'], 'eng')   # Replace 'en-US', 'en-GB', 'en-CA' by 'eng'"
      ],
      "metadata": {
        "id": "OMZR7Bw9ui_r"
      }
    },
    {
      "cell_type": "markdown",
      "source": [
        "### Correct data format in column `publication_date`"
      ],
      "metadata": {
        "collapsed": false,
        "id": "Q0bLqvfiui_r"
      }
    },
    {
      "cell_type": "code",
      "execution_count": 18,
      "outputs": [
        {
          "output_type": "execute_result",
          "data": {
            "text/plain": [
              "bookID\n",
              "1   2006-09-16\n",
              "2   2004-09-01\n",
              "4   2003-11-01\n",
              "5   2004-05-01\n",
              "8   2004-09-13\n",
              "Name: publication_date, dtype: datetime64[ns]"
            ]
          },
          "metadata": {},
          "execution_count": 18
        }
      ],
      "source": [
        "# pandas.to_datetime() function convert date/time string to a standard datetime object of pandas\n",
        "# Specify the original date format: month/day/year\n",
        "# errors='coerce' means when there is a converting error, the original value is marked as a non-value ('NaT')\n",
        "col_publication_date = pd.to_datetime(df_book.publication_date, format='%m/%d/%Y',errors='coerce')\n",
        "# Visualize converting result\n",
        "col_publication_date.head()"
      ],
      "metadata": {
        "id": "2p9LSgaxui_r",
        "colab": {
          "base_uri": "https://localhost:8080/"
        },
        "outputId": "91b2d29b-690c-4434-8eba-05d0ae8f5013"
      }
    },
    {
      "cell_type": "code",
      "execution_count": 19,
      "outputs": [
        {
          "output_type": "execute_result",
          "data": {
            "text/plain": [
              "bookID\n",
              "31373   NaT\n",
              "45531   NaT\n",
              "Name: publication_date, dtype: datetime64[ns]"
            ]
          },
          "metadata": {},
          "execution_count": 19
        }
      ],
      "source": [
        "# Check if there is values that are failed to convert (Check existence of 'NaT' in column).\n",
        "col_publication_date[col_publication_date.isnull()]"
      ],
      "metadata": {
        "id": "gPkc8wLDui_r",
        "colab": {
          "base_uri": "https://localhost:8080/"
        },
        "outputId": "d87806e3-dfac-4f2c-8993-2b44071511e2"
      }
    },
    {
      "cell_type": "code",
      "execution_count": 20,
      "outputs": [
        {
          "output_type": "stream",
          "name": "stdout",
          "text": [
            "11/31/2000\n",
            "6/31/1982\n"
          ]
        }
      ],
      "source": [
        "# Check the date value before converting where error happened\n",
        "print(df_book.loc[31373, 'publication_date'])\n",
        "print(df_book.loc[45531, 'publication_date'])"
      ],
      "metadata": {
        "id": "atssq_YTui_r",
        "colab": {
          "base_uri": "https://localhost:8080/"
        },
        "outputId": "2106b9ed-6c93-45aa-a185-67a35fe6d91d"
      }
    },
    {
      "cell_type": "markdown",
      "source": [
        "So it can be remarked that error happens because both June and November have only 30 days instead of 31."
      ],
      "metadata": {
        "collapsed": false,
        "id": "MyoaVSqdui_s"
      }
    },
    {
      "cell_type": "code",
      "execution_count": 21,
      "outputs": [
        {
          "output_type": "execute_result",
          "data": {
            "text/plain": [
              "bookID\n",
              "31373   2000-11-30\n",
              "45531   1982-06-30\n",
              "Name: publication_date, dtype: datetime64[ns]"
            ]
          },
          "metadata": {},
          "execution_count": 21
        }
      ],
      "source": [
        "# Correct the error found above\n",
        "col_publication_date.loc[31373] = pd.to_datetime(\"11/30/2000\", format=\"%m/%d/%Y\")\n",
        "col_publication_date.loc[45531] = pd.to_datetime(\"6/30/1982\", format=\"%m/%d/%Y\")\n",
        "# Check again\n",
        "col_publication_date[[31373, 45531]]"
      ],
      "metadata": {
        "id": "HQjJl0x_ui_s",
        "colab": {
          "base_uri": "https://localhost:8080/"
        },
        "outputId": "2e0ecbca-f105-48d4-80de-4b486c702222"
      }
    },
    {
      "cell_type": "code",
      "execution_count": 22,
      "outputs": [],
      "source": [
        "# Replace the original column in DataFrame by converted column\n",
        "df_book['publication_date'] = col_publication_date"
      ],
      "metadata": {
        "id": "oXp36DTdui_s"
      }
    },
    {
      "cell_type": "markdown",
      "source": [
        "### Drop CDs in the dataset\n",
        "The records with `NOT A BOOK` as author are actually CDs, so it is logical to drop them."
      ],
      "metadata": {
        "collapsed": false,
        "id": "GVPrK97iui_s"
      }
    },
    {
      "cell_type": "code",
      "execution_count": 23,
      "outputs": [
        {
          "output_type": "execute_result",
          "data": {
            "text/plain": [
              "Int64Index([3593, 3599, 19786, 19787, 19788], dtype='int64', name='bookID')"
            ]
          },
          "metadata": {},
          "execution_count": 23
        }
      ],
      "source": [
        "# Acquire bookID of rows containing 'NOT A BOOK' as author\n",
        "ID_to_Drop = df_book[df_book.authors==\"NOT A BOOK\"].index\n",
        "ID_to_Drop"
      ],
      "metadata": {
        "id": "FuKBFPwmui_w",
        "colab": {
          "base_uri": "https://localhost:8080/"
        },
        "outputId": "cbafe477-e10a-44e7-e394-1ab7f718d117"
      }
    },
    {
      "cell_type": "code",
      "execution_count": 24,
      "outputs": [],
      "source": [
        "# Drop CDs\n",
        "df_book.drop(index=ID_to_Drop, inplace=True)"
      ],
      "metadata": {
        "id": "P6E59udTui_w"
      }
    },
    {
      "cell_type": "markdown",
      "source": [
        "### Correct books with 0 page"
      ],
      "metadata": {
        "collapsed": false,
        "id": "lD9nic6cui_w"
      }
    },
    {
      "cell_type": "code",
      "source": [
        "# Replace 0s in col. num_pages with the average page of all non-zero page books\n",
        "df_book.loc[df_book[\"num_pages\"]==0, 'num_pages'] = round(df_book.loc[df_book[\"num_pages\"]!=0, \"num_pages\"].mean())"
      ],
      "metadata": {
        "id": "Jo0JARBDu8Cd"
      },
      "execution_count": 25,
      "outputs": []
    },
    {
      "cell_type": "markdown",
      "source": [
        "### Drop all the book that have `ratings_count`= 0 AND `average_rating`$\\neq$0"
      ],
      "metadata": {
        "id": "eWnYrjFre95s"
      }
    },
    {
      "cell_type": "code",
      "source": [
        "ID_to_Drop = df_book.loc[(df_book['ratings_count']==0) & (df_book['average_rating']!=0), :].index\n",
        "df_book.drop(inplace=True, index=ID_to_Drop)"
      ],
      "metadata": {
        "id": "z09AqRikfKNM"
      },
      "execution_count": 26,
      "outputs": []
    },
    {
      "cell_type": "markdown",
      "source": [
        "# Data Explore and Analysis"
      ],
      "metadata": {
        "collapsed": false,
        "id": "LUZ2s0LWui_x"
      }
    },
    {
      "cell_type": "code",
      "source": [
        "plt.figure(figsize=(5,5))\n",
        "sns.heatmap(df_book.corr(), annot=True)\n",
        "plt.show()"
      ],
      "metadata": {
        "colab": {
          "base_uri": "https://localhost:8080/",
          "height": 625
        },
        "id": "-tbVqanwHzUl",
        "outputId": "98c3956e-6726-47ca-a9be-8cd90d04e0e2"
      },
      "execution_count": 27,
      "outputs": [
        {
          "output_type": "stream",
          "name": "stderr",
          "text": [
            "<ipython-input-27-eca0339f1f15>:2: FutureWarning: The default value of numeric_only in DataFrame.corr is deprecated. In a future version, it will default to False. Select only valid columns or specify the value of numeric_only to silence this warning.\n",
            "  sns.heatmap(df_book.corr(), annot=True)\n"
          ]
        },
        {
          "output_type": "display_data",
          "data": {
            "text/plain": [
              "<Figure size 500x500 with 2 Axes>"
            ],
            "image/png": "[encoded data removed]"
          },
          "metadata": {}
        }
      ]
    },
    {
      "cell_type": "code",
      "source": [
        "sns.set_style(\"darkgrid\")\n",
        "numerical_plot = sns.PairGrid(df_book, vars=['average_rating', 'ratings_count', 'num_pages','text_reviews_count'], height = 1.8)\n",
        "numerical_plot.map(sns.scatterplot,  s=10, edgecolor=\"white\")"
      ],
      "metadata": {
        "id": "32Hg12qdQUNV",
        "colab": {
          "base_uri": "https://localhost:8080/",
          "height": 740
        },
        "outputId": "c52afbcc-1b49-4113-a5fe-daa5ca11ac4e"
      },
      "execution_count": 28,
      "outputs": [
        {
          "output_type": "execute_result",
          "data": {
            "text/plain": [
              "<seaborn.axisgrid.PairGrid at 0x7a0979c5f070>"
            ]
          },
          "metadata": {},
          "execution_count": 28
        },
        {
          "output_type": "display_data",
          "data": {
            "text/plain": [
              "<Figure size 720x720 with 16 Axes>"
            ],
            "image/png": "[encoded data removed]"
          },
          "metadata": {}
        }
      ]
    },
    {
      "cell_type": "code",
      "source": [
        "df_book['language_code'].value_counts().head(7).plot(kind = 'pie', figsize=(8, 8)).legend()"
      ],
      "metadata": {
        "colab": {
          "base_uri": "https://localhost:8080/",
          "height": 670
        },
        "id": "SpqFKoaeHoIc",
        "outputId": "a35cc239-c56e-44a2-94df-c07ee617c39e"
      },
      "execution_count": 29,
      "outputs": [
        {
          "output_type": "execute_result",
          "data": {
            "text/plain": [
              "<matplotlib.legend.Legend at 0x7a097a1f5f00>"
            ]
          },
          "metadata": {},
          "execution_count": 29
        },
        {
          "output_type": "display_data",
          "data": {
            "text/plain": [
              "<Figure size 800x800 with 1 Axes>"
            ],
            "image/png": "[encoded data removed]"
          },
          "metadata": {}
        }
      ]
    },
    {
      "cell_type": "code",
      "source": [
        "sns.set_style(\"whitegrid\")\n",
        "plt.figure(figsize=(6, 4))\n",
        "sns.histplot(df_book['average_rating'])\n",
        "plt.xlabel('Average score')\n",
        "plt.ylabel('Frequency')\n",
        "plt.title('Distribution of book average ratings')\n",
        "plt.show()"
      ],
      "metadata": {
        "colab": {
          "base_uri": "https://localhost:8080/",
          "height": 410
        },
        "id": "QGjytiQ8ImVO",
        "outputId": "c588d499-d0d2-497e-9ea1-3227cb97fa06"
      },
      "execution_count": 30,
      "outputs": [
        {
          "output_type": "display_data",
          "data": {
            "text/plain": [
              "<Figure size 600x400 with 1 Axes>"
            ],
            "image/png": "[encoded data removed]"
          },
          "metadata": {}
        }
      ]
    },
    {
      "cell_type": "markdown",
      "source": [
        "# Feature Engineering"
      ],
      "metadata": {
        "id": "k19FjvdZk-sO"
      }
    },
    {
      "cell_type": "markdown",
      "source": [
        "## Drop column `title`, `isbn`"
      ],
      "metadata": {
        "id": "uQo3DstDrMnm"
      }
    },
    {
      "cell_type": "markdown",
      "source": [
        "`isbn13` is a column in type `int64` and is used as unique identifier for each book in addtion to row index in further processing."
      ],
      "metadata": {
        "id": "Tv_nrDgfMSeB"
      }
    },
    {
      "cell_type": "code",
      "source": [
        "df_book.drop(inplace=True, columns=['title', 'isbn'])"
      ],
      "metadata": {
        "id": "ZaPipobYsRnr"
      },
      "execution_count": 31,
      "outputs": []
    },
    {
      "cell_type": "markdown",
      "source": [
        "## Convert publish date to book's age since its publication"
      ],
      "metadata": {
        "id": "_IyqoF60lIkf"
      }
    },
    {
      "cell_type": "code",
      "source": [
        " # Add a new column 'today_date' contains only the time stamp of tody\n",
        "df_book['today_date'] = pd.Timestamp('2023-08-04')\n",
        "# Calclate the age of each book in  decimal value of year since its publication\n",
        "df_book['delta_date'] = (df_book[\"today_date\"] - df_book[\"publication_date\"]).dt.days / 365.0\n",
        "# Drop the column 'today_date' and original 'publication_date'\n",
        "df_book.drop(columns=['today_date', 'publication_date'], inplace=True)"
      ],
      "metadata": {
        "id": "IErRglyHWrYr"
      },
      "execution_count": 32,
      "outputs": []
    },
    {
      "cell_type": "code",
      "source": [
        "# Show distribution of book's age\n",
        "sns.set_style(\"whitegrid\")\n",
        "sns.histplot(data=df_book, x='delta_date', binwidth=1).set(title=\"distribution of Book's age (year) since publication\")\n",
        "df_book['delta_date'].describe()"
      ],
      "metadata": {
        "id": "6frT44pWixvk",
        "colab": {
          "base_uri": "https://localhost:8080/",
          "height": 628
        },
        "outputId": "a1272b73-a801-4b68-8781-7107b65e0b4c"
      },
      "execution_count": 33,
      "outputs": [
        {
          "output_type": "execute_result",
          "data": {
            "text/plain": [
              "count    11068.000000\n",
              "mean        22.937875\n",
              "std          8.227293\n",
              "min          3.345205\n",
              "25%         17.852055\n",
              "50%         20.441096\n",
              "75%         25.026027\n",
              "max        123.671233\n",
              "Name: delta_date, dtype: float64"
            ]
          },
          "metadata": {},
          "execution_count": 33
        },
        {
          "output_type": "display_data",
          "data": {
            "text/plain": [
              "<Figure size 640x480 with 1 Axes>"
            ],
            "image/png": "[encoded data removed]"
          },
          "metadata": {}
        }
      ]
    },
    {
      "cell_type": "markdown",
      "source": [
        "## Frequency encoding for column `language_code`"
      ],
      "metadata": {
        "id": "9wwFzrdcRyqX"
      }
    },
    {
      "cell_type": "code",
      "source": [
        "df_book[\"language_code_encoded\"] = df_book.groupby(\"language_code\")[\"language_code\"].transform(\"count\") / len(df_book.index)"
      ],
      "metadata": {
        "id": "wmPNSzHaMIUT"
      },
      "execution_count": 34,
      "outputs": []
    },
    {
      "cell_type": "code",
      "source": [
        "# Drop original \"language_code\" column\n",
        "df_book.drop(inplace=True, columns=['language_code'])"
      ],
      "metadata": {
        "id": "VaUyfgEC2QMt"
      },
      "execution_count": 35,
      "outputs": []
    },
    {
      "cell_type": "markdown",
      "source": [
        "## Target encoding for column `publisher`"
      ],
      "metadata": {
        "id": "5mFUuc-70eoN"
      }
    },
    {
      "cell_type": "markdown",
      "source": [
        "The follwing target encoding and the indispensable smoothing technique takes reference to the tutorial on *Kaggle*:\n",
        "\n",
        "[Target Encoding:\n",
        "Boost any categorical feature with this powerful technique.](https://www.kaggle.com/code/ryanholbrook/target-encoding)"
      ],
      "metadata": {
        "id": "UIt88PRJ14WY"
      }
    },
    {
      "cell_type": "code",
      "source": [
        "# Count number of unique pubulisher\n",
        "N_publisher = df_book['publisher'].nunique()\n",
        "print(\"Number of UNIQUE publisher: {}\".format(N_publisher))"
      ],
      "metadata": {
        "id": "teTiXbzyw5D2",
        "colab": {
          "base_uri": "https://localhost:8080/"
        },
        "outputId": "761e4622-4786-451b-fa7c-4811b52558bd"
      },
      "execution_count": 36,
      "outputs": [
        {
          "output_type": "stream",
          "name": "stdout",
          "text": [
            "Number of UNIQUE publisher: 2271\n"
          ]
        }
      ]
    },
    {
      "cell_type": "code",
      "source": [
        "# Create a new column by calculating the average rating for each publisher\n",
        "df_book[\"publisher_avg_rating\"] = df_book.groupby(\"publisher\")[\"average_rating\"].transform(\"mean\")\n",
        "# Create a new column by counting the occurrance times of each publisher\n",
        "df_book[\"publisher_count\"] = df_book.groupby(\"publisher\")[\"publisher\"].transform(\"count\")\n",
        "# The parameter m determines the \"smoothing factor\". Larger values of m put more weight on the overall estimate.\n",
        "m_factor = 2.0\n",
        "# Calculate the overall mean of column \"average_rating\"\n",
        "mean_overall = df_book[\"average_rating\"].mean()\n",
        "# Determine weight for each publisher\n",
        "df_book[\"publisher_weight\"] = df_book[\"publisher_count\"] / (m_factor + df_book[\"publisher_count\"])\n",
        "# Blend the in-category average with the overall average with weight\n",
        "df_book[\"publisher_encoded\"] = df_book[\"publisher_weight\"] * df_book[\"publisher_avg_rating\"] + (1-df_book[\"publisher_weight\"]) * mean_overall\n",
        "# Drop the original column \"publisher\" and columns that contain intermediate results\n",
        "df_book.drop(inplace=True, columns=['publisher', 'publisher_avg_rating', 'publisher_count', 'publisher_weight'])\n",
        "df_book[\"publisher_encoded\"].head(10)"
      ],
      "metadata": {
        "id": "18nGvrxL0q2n",
        "colab": {
          "base_uri": "https://localhost:8080/"
        },
        "outputId": "20b71830-bfbd-45ef-8516-a33420c50cea"
      },
      "execution_count": 37,
      "outputs": [
        {
          "output_type": "execute_result",
          "data": {
            "text/plain": [
              "bookID\n",
              "1     4.043388\n",
              "2     4.043388\n",
              "4     3.973355\n",
              "5     4.043388\n",
              "8     3.973355\n",
              "9     3.869143\n",
              "10    3.973355\n",
              "12    4.172495\n",
              "13    3.915641\n",
              "14    3.871937\n",
              "Name: publisher_encoded, dtype: float64"
            ]
          },
          "metadata": {},
          "execution_count": 37
        }
      ]
    },
    {
      "cell_type": "markdown",
      "source": [
        "## Encoding for column `authors` (modified target encoding)"
      ],
      "metadata": {
        "id": "SCxNBNwHPwbm"
      }
    },
    {
      "cell_type": "markdown",
      "source": [
        "We take reference to the blog article: [Dealing with List Values in Pandas Dataframes](https://towardsdatascience.com/dealing-with-list-values-in-pandas-dataframes-a177e534f173)\n",
        "to get some techniques that enable us to convert each row in column `authors` from string to a list of authors"
      ],
      "metadata": {
        "id": "p22GtFL1sNop"
      }
    },
    {
      "cell_type": "code",
      "source": [
        "print(df_book['authors'].loc[1])\n",
        "print(type(df_book['authors'].loc[1]))"
      ],
      "metadata": {
        "id": "Z2Q3XgFnlUVs",
        "colab": {
          "base_uri": "https://localhost:8080/"
        },
        "outputId": "4d11817a-c24d-472c-898e-7baa51ef026f"
      },
      "execution_count": 38,
      "outputs": [
        {
          "output_type": "stream",
          "name": "stdout",
          "text": [
            "J.K. Rowling/Mary GrandPré\n",
            "<class 'str'>\n"
          ]
        }
      ]
    },
    {
      "cell_type": "markdown",
      "source": [
        "From the output above we can see that in column `authors`, each row contains a string and the authors are seperated by delimiter `/`. Since each book can have more than one author, it is convinent to convert the `str` to a `list` of authors for later processing."
      ],
      "metadata": {
        "id": "bxQL8OIBl2EP"
      }
    },
    {
      "cell_type": "code",
      "source": [
        "df_book['authors'] = df_book['authors'].apply(lambda x : re.sub(' +', ' ', x.strip()).split('/'))\n",
        "df_book['authors'].head(10)"
      ],
      "metadata": {
        "id": "K12ccAVSlXGB",
        "colab": {
          "base_uri": "https://localhost:8080/"
        },
        "outputId": "722f1f34-79cf-416f-b4aa-d4eb236fb509"
      },
      "execution_count": 39,
      "outputs": [
        {
          "output_type": "execute_result",
          "data": {
            "text/plain": [
              "bookID\n",
              "1     [J.K. Rowling, Mary GrandPré]\n",
              "2     [J.K. Rowling, Mary GrandPré]\n",
              "4                    [J.K. Rowling]\n",
              "5     [J.K. Rowling, Mary GrandPré]\n",
              "8     [J.K. Rowling, Mary GrandPré]\n",
              "9          [W. Frederick Zimmerman]\n",
              "10                   [J.K. Rowling]\n",
              "12                  [Douglas Adams]\n",
              "13                  [Douglas Adams]\n",
              "14                  [Douglas Adams]\n",
              "Name: authors, dtype: object"
            ]
          },
          "metadata": {},
          "execution_count": 39
        }
      ]
    },
    {
      "cell_type": "code",
      "source": [
        "df_tmp_authors = df_book[['isbn13', 'authors', 'average_rating', 'ratings_count']]\n",
        "df_tmp_authors = df_tmp_authors.explode('authors')"
      ],
      "metadata": {
        "id": "KKXj1g19lqs_"
      },
      "execution_count": 40,
      "outputs": []
    },
    {
      "cell_type": "code",
      "source": [
        "df_book.info()"
      ],
      "metadata": {
        "id": "c0qT4kVMZ5YN",
        "colab": {
          "base_uri": "https://localhost:8080/"
        },
        "outputId": "8ee9ff1a-e330-4e24-a284-484d1fa626b9"
      },
      "execution_count": 41,
      "outputs": [
        {
          "output_type": "stream",
          "name": "stdout",
          "text": [
            "<class 'pandas.core.frame.DataFrame'>\n",
            "Int64Index: 11068 entries, 1 to 45641\n",
            "Data columns (total 9 columns):\n",
            " #   Column                 Non-Null Count  Dtype  \n",
            "---  ------                 --------------  -----  \n",
            " 0   authors                11068 non-null  object \n",
            " 1   average_rating         11068 non-null  float64\n",
            " 2   isbn13                 11068 non-null  int64  \n",
            " 3   num_pages              11068 non-null  int64  \n",
            " 4   ratings_count          11068 non-null  int64  \n",
            " 5   text_reviews_count     11068 non-null  int64  \n",
            " 6   delta_date             11068 non-null  float64\n",
            " 7   language_code_encoded  11068 non-null  float64\n",
            " 8   publisher_encoded      11068 non-null  float64\n",
            "dtypes: float64(4), int64(4), object(1)\n",
            "memory usage: 1.1+ MB\n"
          ]
        }
      ]
    },
    {
      "cell_type": "code",
      "source": [
        "# Use \"ratings_count\" as weight for \"average_rating\"\n",
        "df_tmp_authors['weighted_rating'] = df_tmp_authors['average_rating'] * df_tmp_authors['ratings_count']\n",
        "# Compute the total number of ratings of a single author\n",
        "df_tmp_authors['authors_ratings_count'] = df_tmp_authors.groupby('authors')['ratings_count'].transform('sum')\n",
        "df_tmp_authors['tmp'] = df_tmp_authors['weighted_rating'] / df_tmp_authors['authors_ratings_count']\n",
        "df_tmp_authors['authors_avg_rating'] = df_tmp_authors.groupby('authors')['tmp'].transform('sum')"
      ],
      "metadata": {
        "id": "T_2ET9JI05k1"
      },
      "execution_count": 42,
      "outputs": []
    },
    {
      "cell_type": "code",
      "source": [
        "df_tmp_authors_final = df_tmp_authors.groupby('isbn13').agg({'authors_avg_rating': 'mean'}).reset_index()\n",
        "df_book_final = pd.merge(df_book, df_tmp_authors_final, on='isbn13', how='left')"
      ],
      "metadata": {
        "id": "6BiMXp9O5w-7"
      },
      "execution_count": 43,
      "outputs": []
    },
    {
      "cell_type": "code",
      "source": [
        "# Drop original column \"isbn13\" and \"authors\"\n",
        "df_book_final.drop(inplace=True, columns=['isbn13', 'authors'])"
      ],
      "metadata": {
        "id": "EQ0fAPrIJaVz"
      },
      "execution_count": 44,
      "outputs": []
    },
    {
      "cell_type": "code",
      "source": [
        "df_book_final.info()    # DataFrame after feature engineering"
      ],
      "metadata": {
        "colab": {
          "base_uri": "https://localhost:8080/"
        },
        "id": "V5DSLYU70rWf",
        "outputId": "ca692fe7-e1c2-44c6-da49-b178b2001a18"
      },
      "execution_count": 45,
      "outputs": [
        {
          "output_type": "stream",
          "name": "stdout",
          "text": [
            "<class 'pandas.core.frame.DataFrame'>\n",
            "Int64Index: 11068 entries, 0 to 11067\n",
            "Data columns (total 8 columns):\n",
            " #   Column                 Non-Null Count  Dtype  \n",
            "---  ------                 --------------  -----  \n",
            " 0   average_rating         11068 non-null  float64\n",
            " 1   num_pages              11068 non-null  int64  \n",
            " 2   ratings_count          11068 non-null  int64  \n",
            " 3   text_reviews_count     11068 non-null  int64  \n",
            " 4   delta_date             11068 non-null  float64\n",
            " 5   language_code_encoded  11068 non-null  float64\n",
            " 6   publisher_encoded      11068 non-null  float64\n",
            " 7   authors_avg_rating     11068 non-null  float64\n",
            "dtypes: float64(5), int64(3)\n",
            "memory usage: 778.2 KB\n"
          ]
        }
      ]
    },
    {
      "cell_type": "markdown",
      "metadata": {
        "id": "KnaXV-lJjB7E"
      },
      "source": [
        "# **Model training preparation : Classes combination and Split the data**"
      ]
    },
    {
      "cell_type": "markdown",
      "source": [
        "Classes combination for average rating :\n",
        "\n",
        "    Group 1 : Rating 0 + Rating 1 + Rating 2 + Rating 3\n",
        "    Group 2 : Rating 4\n",
        "    Group 3 : Rating 5\n",
        "\n",
        "\n",
        "  We need a balanced number of examples for each class to avoid bias and achieve better prediction performance. So we group several rating values into groups."
      ],
      "metadata": {
        "id": "MKlyN6y074Xd"
      }
    },
    {
      "cell_type": "code",
      "execution_count": 46,
      "metadata": {
        "id": "403M7JikLAUH",
        "colab": {
          "base_uri": "https://localhost:8080/"
        },
        "outputId": "dfdc2b3a-ecad-4bf3-b25d-af1f5a46cfb3"
      },
      "outputs": [
        {
          "output_type": "execute_result",
          "data": {
            "text/plain": [
              "4    10159\n",
              "3      689\n",
              "5      183\n",
              "0       26\n",
              "2        9\n",
              "1        2\n",
              "Name: average_rating, dtype: int64"
            ]
          },
          "metadata": {},
          "execution_count": 46
        }
      ],
      "source": [
        "df_book_final['average_rating'] = df_book_final['average_rating'].round().astype(int)\n",
        "df_book_final.average_rating.value_counts()"
      ]
    },
    {
      "cell_type": "code",
      "execution_count": 47,
      "metadata": {
        "id": "KRVZmkf-0upD",
        "colab": {
          "base_uri": "https://localhost:8080/"
        },
        "outputId": "91a987f0-ab33-4f80-e647-43211a005b10"
      },
      "outputs": [
        {
          "output_type": "execute_result",
          "data": {
            "text/plain": [
              "array([5, 4, 3, 0, 1, 2])"
            ]
          },
          "metadata": {},
          "execution_count": 47
        }
      ],
      "source": [
        "df_book_final.average_rating.unique()"
      ]
    },
    {
      "cell_type": "code",
      "source": [
        "df_book_final.loc[df_book_final['average_rating'] <= 3, 'average_rating'] = 3"
      ],
      "metadata": {
        "id": "sWvVYK_IFx4w"
      },
      "execution_count": 48,
      "outputs": []
    },
    {
      "cell_type": "code",
      "source": [
        "df_book_final.average_rating.unique()"
      ],
      "metadata": {
        "id": "Qe-oafoDF3SQ",
        "colab": {
          "base_uri": "https://localhost:8080/"
        },
        "outputId": "5e576a74-9ec5-41e9-a428-d3205800d8fa"
      },
      "execution_count": 49,
      "outputs": [
        {
          "output_type": "execute_result",
          "data": {
            "text/plain": [
              "array([5, 4, 3])"
            ]
          },
          "metadata": {},
          "execution_count": 49
        }
      ]
    },
    {
      "cell_type": "code",
      "source": [
        "df_book_final['average_rating'] = df_book_final['average_rating'].round().astype(int)\n",
        "df_book_final.average_rating.value_counts()"
      ],
      "metadata": {
        "id": "Gx1dqa-i0epw",
        "colab": {
          "base_uri": "https://localhost:8080/"
        },
        "outputId": "3dc59cbb-3834-4361-9629-bba786e0de2d"
      },
      "execution_count": 50,
      "outputs": [
        {
          "output_type": "execute_result",
          "data": {
            "text/plain": [
              "4    10159\n",
              "3      726\n",
              "5      183\n",
              "Name: average_rating, dtype: int64"
            ]
          },
          "metadata": {},
          "execution_count": 50
        }
      ]
    },
    {
      "cell_type": "code",
      "source": [
        "df_book_final.columns"
      ],
      "metadata": {
        "colab": {
          "base_uri": "https://localhost:8080/"
        },
        "id": "2wxoi3JP9EkL",
        "outputId": "09500d06-2c97-4df5-8976-f45119447e2f"
      },
      "execution_count": 51,
      "outputs": [
        {
          "output_type": "execute_result",
          "data": {
            "text/plain": [
              "Index(['average_rating', 'num_pages', 'ratings_count', 'text_reviews_count',\n",
              "       'delta_date', 'language_code_encoded', 'publisher_encoded',\n",
              "       'authors_avg_rating'],\n",
              "      dtype='object')"
            ]
          },
          "metadata": {},
          "execution_count": 51
        }
      ]
    },
    {
      "cell_type": "code",
      "execution_count": 52,
      "metadata": {
        "id": "TYxxJZ3OjKd8"
      },
      "outputs": [],
      "source": [
        "from sklearn.model_selection import train_test_split"
      ]
    },
    {
      "cell_type": "code",
      "execution_count": 53,
      "metadata": {
        "id": "IHV7OJuhjKke"
      },
      "outputs": [],
      "source": [
        "df_train, df_test = train_test_split(df_book_final, test_size=0.2, stratify=df_book_final.average_rating)"
      ]
    },
    {
      "cell_type": "code",
      "execution_count": 54,
      "metadata": {
        "id": "NBGddHOijKnq",
        "colab": {
          "base_uri": "https://localhost:8080/"
        },
        "outputId": "d0313187-ae0f-4bd8-895e-41227cb76de1"
      },
      "outputs": [
        {
          "output_type": "execute_result",
          "data": {
            "text/plain": [
              "11068"
            ]
          },
          "metadata": {},
          "execution_count": 54
        }
      ],
      "source": [
        "len(df_book_final)  # Book records in total after data cleaning and feature engineering"
      ]
    },
    {
      "cell_type": "code",
      "execution_count": 55,
      "metadata": {
        "id": "Br0AbY7zjKqY",
        "colab": {
          "base_uri": "https://localhost:8080/"
        },
        "outputId": "f7248e6a-d03e-4474-9448-7de4b1ad8c58"
      },
      "outputs": [
        {
          "output_type": "execute_result",
          "data": {
            "text/plain": [
              "8854"
            ]
          },
          "metadata": {},
          "execution_count": 55
        }
      ],
      "source": [
        "len(df_train)       # Size of training set"
      ]
    },
    {
      "cell_type": "code",
      "execution_count": 56,
      "metadata": {
        "id": "TKa3_Ywykc8V",
        "colab": {
          "base_uri": "https://localhost:8080/"
        },
        "outputId": "bd0d89da-1039-4afc-93a9-9f48d58deb86"
      },
      "outputs": [
        {
          "output_type": "execute_result",
          "data": {
            "text/plain": [
              "2214"
            ]
          },
          "metadata": {},
          "execution_count": 56
        }
      ],
      "source": [
        "len(df_test)        # Size of test set"
      ]
    },
    {
      "cell_type": "markdown",
      "metadata": {
        "id": "63Z2EEbCk8Hi"
      },
      "source": [
        "## **Check some values after the split**\n",
        "\n",
        "We see that the training and testing set still represent the reality of our data frame"
      ]
    },
    {
      "cell_type": "code",
      "execution_count": 57,
      "metadata": {
        "id": "ZfcWAoNqk3qC",
        "colab": {
          "base_uri": "https://localhost:8080/"
        },
        "outputId": "ea273ad2-36a1-4db6-d8be-f4d137c97f37"
      },
      "outputs": [
        {
          "output_type": "stream",
          "name": "stdout",
          "text": [
            "3.950939645825804\n",
            "3.950869663428959\n",
            "3.951219512195122\n"
          ]
        }
      ],
      "source": [
        "print(df_book_final.average_rating.mean())\n",
        "print(df_train.average_rating.mean())\n",
        "print(df_test.average_rating.mean())"
      ]
    },
    {
      "cell_type": "code",
      "execution_count": 58,
      "metadata": {
        "id": "3m7GcVpHlkP_",
        "colab": {
          "base_uri": "https://localhost:8080/"
        },
        "outputId": "0c0c07f2-0bf5-4a81-cee4-b423bb98a7ad"
      },
      "outputs": [
        {
          "output_type": "stream",
          "name": "stdout",
          "text": [
            "338.8450487893025\n",
            "337.86469392365035\n",
            "342.76558265582656\n"
          ]
        }
      ],
      "source": [
        "print(df_book_final.num_pages.mean())\n",
        "print(df_train.num_pages.mean())\n",
        "print(df_test.num_pages.mean())"
      ]
    },
    {
      "cell_type": "markdown",
      "metadata": {
        "id": "Qrf3qHYxmNfS"
      },
      "source": [
        "## **Check the columns**\n",
        "\n",
        "We verify that we  have the same columns that we had in our original data frame"
      ]
    },
    {
      "cell_type": "code",
      "execution_count": 59,
      "metadata": {
        "id": "e0xBuqGzmVDs",
        "colab": {
          "base_uri": "https://localhost:8080/"
        },
        "outputId": "a76f08a5-6479-4b11-e434-b9801e4bc47e"
      },
      "outputs": [
        {
          "output_type": "execute_result",
          "data": {
            "text/plain": [
              "Index(['average_rating', 'num_pages', 'ratings_count', 'text_reviews_count',\n",
              "       'delta_date', 'language_code_encoded', 'publisher_encoded',\n",
              "       'authors_avg_rating'],\n",
              "      dtype='object')"
            ]
          },
          "metadata": {},
          "execution_count": 59
        }
      ],
      "source": [
        "df_train.columns"
      ]
    },
    {
      "cell_type": "code",
      "execution_count": 60,
      "metadata": {
        "id": "D8tlyIvkjqIV"
      },
      "outputs": [],
      "source": [
        "# get the values of the columns for the training data\n",
        "X_train = df_train.loc[:, ['authors_avg_rating', 'language_code_encoded', 'num_pages', 'ratings_count', 'text_reviews_count', 'delta_date', 'publisher_encoded']].values\n",
        "y_train = df_train.average_rating.values\n"
      ]
    },
    {
      "cell_type": "code",
      "execution_count": 61,
      "metadata": {
        "id": "gIHEYrQ2jn_w"
      },
      "outputs": [],
      "source": [
        "# get the values of the columns for the test data\n",
        "X_test = df_test.loc[:,['authors_avg_rating', 'language_code_encoded', 'num_pages', 'ratings_count', 'text_reviews_count', 'delta_date', 'publisher_encoded']].values\n",
        "y_test = df_test.average_rating.values"
      ]
    },
    {
      "cell_type": "markdown",
      "metadata": {
        "id": "VOYE5nwJaX9I"
      },
      "source": [
        "# **Smote and oversampling**\n"
      ]
    },
    {
      "cell_type": "code",
      "source": [
        "unique, count = np.unique(y_train, return_counts=True)\n",
        "Y_train_dict_value_count = { k:v for (k,v) in zip(unique, count)}\n",
        "Y_train_dict_value_count"
      ],
      "metadata": {
        "id": "ojoMBcuXSDvA",
        "colab": {
          "base_uri": "https://localhost:8080/"
        },
        "outputId": "60a559a4-2afc-4fee-a3e8-9c0a0e4f2ba7"
      },
      "execution_count": 62,
      "outputs": [
        {
          "output_type": "execute_result",
          "data": {
            "text/plain": [
              "{3: 581, 4: 8127, 5: 146}"
            ]
          },
          "metadata": {},
          "execution_count": 62
        }
      ]
    },
    {
      "cell_type": "code",
      "source": [
        "from imblearn.over_sampling import SMOTE\n",
        "\n",
        "\n",
        "sampling_strategy = {\n",
        "    3: 7000,  # Desired ratio for group average_rating=3\n",
        "    4: 8163,  # Desired ratio for group average_rating=4\n",
        "    5: 7000   # Desired ratio for group average_rating=5\n",
        "}\n",
        "\n",
        "sm = SMOTE(random_state=12, sampling_strategy=sampling_strategy)\n",
        "x_train_smote, y_train_smote = sm.fit_resample(X_train, y_train)"
      ],
      "metadata": {
        "id": "IoXhqs-40x09",
        "colab": {
          "base_uri": "https://localhost:8080/"
        },
        "outputId": "6a971879-968c-4ebc-dab7-e5296225879b"
      },
      "execution_count": 63,
      "outputs": [
        {
          "output_type": "stream",
          "name": "stderr",
          "text": [
            "/usr/local/lib/python3.10/dist-packages/imblearn/utils/_validation.py:313: UserWarning: After over-sampling, the number of samples (8163) in class 4 will be larger than the number of samples in the majority class (class #4 -> 8127)\n",
            "  warnings.warn(\n"
          ]
        }
      ]
    },
    {
      "cell_type": "code",
      "source": [
        "unique, count = np.unique(y_train_smote, return_counts=True)\n",
        "y_train_smote_value_count = { k:v for (k,v) in zip(unique, count)}\n",
        "y_train_smote_value_count"
      ],
      "metadata": {
        "id": "ctBf4FGt3EoH",
        "colab": {
          "base_uri": "https://localhost:8080/"
        },
        "outputId": "0f10a59b-b5d1-4e69-cc13-8e041c49b434"
      },
      "execution_count": 64,
      "outputs": [
        {
          "output_type": "execute_result",
          "data": {
            "text/plain": [
              "{3: 7000, 4: 8163, 5: 7000}"
            ]
          },
          "metadata": {},
          "execution_count": 64
        }
      ]
    },
    {
      "cell_type": "markdown",
      "metadata": {
        "id": "WZqDYXtOnUDi"
      },
      "source": [
        "# **Modelling part and Model evaluation**"
      ]
    },
    {
      "cell_type": "markdown",
      "metadata": {
        "id": "JDIA5Meqo_hO"
      },
      "source": [
        "## **Linear model : logistic regression**"
      ]
    },
    {
      "cell_type": "code",
      "execution_count": 65,
      "metadata": {
        "id": "aYOD26rPqBDF"
      },
      "outputs": [],
      "source": [
        "from sklearn.linear_model import LogisticRegression"
      ]
    },
    {
      "cell_type": "code",
      "execution_count": 66,
      "metadata": {
        "id": "U22T-4xUqFs0"
      },
      "outputs": [],
      "source": [
        "# Model initialization\n",
        "lr_model = LogisticRegression(random_state=0,max_iter=1000)"
      ]
    },
    {
      "cell_type": "code",
      "execution_count": 67,
      "metadata": {
        "id": "ko3PI6tZrSjB",
        "outputId": "a42df8d4-edb8-4c16-df7c-b77691696c8d",
        "colab": {
          "base_uri": "https://localhost:8080/",
          "height": 74
        }
      },
      "outputs": [
        {
          "output_type": "execute_result",
          "data": {
            "text/plain": [
              "LogisticRegression(max_iter=1000, random_state=0)"
            ],
            "text/html": [
              "<style>#sk-container-id-1 {color: black;background-color: white;}#sk-container-id-1 pre{padding: 0;}#sk-container-id-1 div.sk-toggleable {background-color: white;}#sk-container-id-1 label.sk-toggleable__label {cursor: pointer;display: block;width: 100%;margin-bottom: 0;padding: 0.3em;box-sizing: border-box;text-align: center;}#sk-container-id-1 label.sk-toggleable__label-arrow:before {content: \"▸\";float: left;margin-right: 0.25em;color: #696969;}#sk-container-id-1 label.sk-toggleable__label-arrow:hover:before {color: black;}#sk-container-id-1 div.sk-estimator:hover label.sk-toggleable__label-arrow:before {color: black;}#sk-container-id-1 div.sk-toggleable__content {max-height: 0;max-width: 0;overflow: hidden;text-align: left;background-color: #f0f8ff;}#sk-container-id-1 div.sk-toggleable__content pre {margin: 0.2em;color: black;border-radius: 0.25em;background-color: #f0f8ff;}#sk-container-id-1 input.sk-toggleable__control:checked~div.sk-toggleable__content {max-height: 200px;max-width: 100%;overflow: auto;}#sk-container-id-1 input.sk-toggleable__control:checked~label.sk-toggleable__label-arrow:before {content: \"▾\";}#sk-container-id-1 div.sk-estimator input.sk-toggleable__control:checked~label.sk-toggleable__label {background-color: #d4ebff;}#sk-container-id-1 div.sk-label input.sk-toggleable__control:checked~label.sk-toggleable__label {background-color: #d4ebff;}#sk-container-id-1 input.sk-hidden--visually {border: 0;clip: rect(1px 1px 1px 1px);clip: rect(1px, 1px, 1px, 1px);height: 1px;margin: -1px;overflow: hidden;padding: 0;position: absolute;width: 1px;}#sk-container-id-1 div.sk-estimator {font-family: monospace;background-color: #f0f8ff;border: 1px dotted black;border-radius: 0.25em;box-sizing: border-box;margin-bottom: 0.5em;}#sk-container-id-1 div.sk-estimator:hover {background-color: #d4ebff;}#sk-container-id-1 div.sk-parallel-item::after {content: \"\";width: 100%;border-bottom: 1px solid gray;flex-grow: 1;}#sk-container-id-1 div.sk-label:hover label.sk-toggleable__label {background-color: #d4ebff;}#sk-container-id-1 div.sk-serial::before {content: \"\";position: absolute;border-left: 1px solid gray;box-sizing: border-box;top: 0;bottom: 0;left: 50%;z-index: 0;}#sk-container-id-1 div.sk-serial {display: flex;flex-direction: column;align-items: center;background-color: white;padding-right: 0.2em;padding-left: 0.2em;position: relative;}#sk-container-id-1 div.sk-item {position: relative;z-index: 1;}#sk-container-id-1 div.sk-parallel {display: flex;align-items: stretch;justify-content: center;background-color: white;position: relative;}#sk-container-id-1 div.sk-item::before, #sk-container-id-1 div.sk-parallel-item::before {content: \"\";position: absolute;border-left: 1px solid gray;box-sizing: border-box;top: 0;bottom: 0;left: 50%;z-index: -1;}#sk-container-id-1 div.sk-parallel-item {display: flex;flex-direction: column;z-index: 1;position: relative;background-color: white;}#sk-container-id-1 div.sk-parallel-item:first-child::after {align-self: flex-end;width: 50%;}#sk-container-id-1 div.sk-parallel-item:last-child::after {align-self: flex-start;width: 50%;}#sk-container-id-1 div.sk-parallel-item:only-child::after {width: 0;}#sk-container-id-1 div.sk-dashed-wrapped {border: 1px dashed gray;margin: 0 0.4em 0.5em 0.4em;box-sizing: border-box;padding-bottom: 0.4em;background-color: white;}#sk-container-id-1 div.sk-label label {font-family: monospace;font-weight: bold;display: inline-block;line-height: 1.2em;}#sk-container-id-1 div.sk-label-container {text-align: center;}#sk-container-id-1 div.sk-container {/* jupyter's `normalize.less` sets `[hidden] { display: none; }` but bootstrap.min.css set `[hidden] { display: none !important; }` so we also need the `!important` here to be able to override the default hidden behavior on the sphinx rendered scikit-learn.org. See: https://github.com/scikit-learn/scikit-learn/issues/21755 */display: inline-block !important;position: relative;}#sk-container-id-1 div.sk-text-repr-fallback {display: none;}</style><div id=\"sk-container-id-1\" class=\"sk-top-container\"><div class=\"sk-text-repr-fallback\"><pre>LogisticRegression(max_iter=1000, random_state=0)</pre><b>In a Jupyter environment, please rerun this cell to show the HTML representation or trust the notebook. <br />On GitHub, the HTML representation is unable to render, please try loading this page with nbviewer.org.</b></div><div class=\"sk-container\" hidden><div class=\"sk-item\"><div class=\"sk-estimator sk-toggleable\"><input class=\"sk-toggleable__control sk-hidden--visually\" id=\"sk-estimator-id-1\" type=\"checkbox\" checked><label for=\"sk-estimator-id-1\" class=\"sk-toggleable__label sk-toggleable__label-arrow\">LogisticRegression</label><div class=\"sk-toggleable__content\"><pre>LogisticRegression(max_iter=1000, random_state=0)</pre></div></div></div></div></div>"
            ]
          },
          "metadata": {},
          "execution_count": 67
        }
      ],
      "source": [
        "# We train the model on the training data\n",
        "lr_model.fit(X=X_train, y=y_train)"
      ]
    },
    {
      "cell_type": "markdown",
      "metadata": {
        "id": "2rFpEVSceUE8"
      },
      "source": [
        "### Model evaluation\n",
        "\n",
        "\n",
        "Creation of a Y test predicted variable, a list of the predictions that our model is going to make."
      ]
    },
    {
      "cell_type": "code",
      "execution_count": 68,
      "metadata": {
        "id": "Y3TDYDQgeUFC"
      },
      "outputs": [],
      "source": [
        "y_test_predicted_lr = lr_model.predict(X_test)"
      ]
    },
    {
      "cell_type": "code",
      "execution_count": 69,
      "metadata": {
        "id": "QkmFwx8YeUFG"
      },
      "outputs": [],
      "source": [
        "#Configuration to display all array values\n",
        "np.set_printoptions(threshold=np.inf)\n"
      ]
    },
    {
      "cell_type": "code",
      "execution_count": 70,
      "metadata": {
        "id": "RvFiN_JoeUFJ"
      },
      "outputs": [],
      "source": [
        "#Accuracy of the model : we compare one by one to count how many the model has gotten correctly\n",
        "np.set_printoptions(threshold=np.inf)"
      ]
    },
    {
      "cell_type": "code",
      "execution_count": 71,
      "metadata": {
        "id": "mZF6KPdVeUFN",
        "colab": {
          "base_uri": "https://localhost:8080/"
        },
        "outputId": "caae7328-ef55-432d-f8a5-47a179a463a0"
      },
      "outputs": [
        {
          "output_type": "execute_result",
          "data": {
            "text/plain": [
              "0.9173441734417345"
            ]
          },
          "metadata": {},
          "execution_count": 71
        }
      ],
      "source": [
        "(y_test_predicted_lr == y_test).sum()/len(y_test)"
      ]
    },
    {
      "cell_type": "code",
      "execution_count": 72,
      "metadata": {
        "id": "7UexDQbGeUFP"
      },
      "outputs": [],
      "source": [
        "from sklearn.metrics import classification_report, confusion_matrix"
      ]
    },
    {
      "cell_type": "code",
      "execution_count": 73,
      "metadata": {
        "id": "sP80irw-eUFS",
        "colab": {
          "base_uri": "https://localhost:8080/"
        },
        "outputId": "4e1b5538-afd5-4768-8236-4312553d7592"
      },
      "outputs": [
        {
          "output_type": "stream",
          "name": "stdout",
          "text": [
            "              precision    recall  f1-score   support\n",
            "\n",
            "           3       0.00      0.00      0.00       145\n",
            "           4       0.92      1.00      0.96      2032\n",
            "           5       0.00      0.00      0.00        37\n",
            "\n",
            "    accuracy                           0.92      2214\n",
            "   macro avg       0.31      0.33      0.32      2214\n",
            "weighted avg       0.84      0.92      0.88      2214\n",
            "\n"
          ]
        },
        {
          "output_type": "stream",
          "name": "stderr",
          "text": [
            "/usr/local/lib/python3.10/dist-packages/sklearn/metrics/_classification.py:1344: UndefinedMetricWarning: Precision and F-score are ill-defined and being set to 0.0 in labels with no predicted samples. Use `zero_division` parameter to control this behavior.\n",
            "  _warn_prf(average, modifier, msg_start, len(result))\n",
            "/usr/local/lib/python3.10/dist-packages/sklearn/metrics/_classification.py:1344: UndefinedMetricWarning: Precision and F-score are ill-defined and being set to 0.0 in labels with no predicted samples. Use `zero_division` parameter to control this behavior.\n",
            "  _warn_prf(average, modifier, msg_start, len(result))\n",
            "/usr/local/lib/python3.10/dist-packages/sklearn/metrics/_classification.py:1344: UndefinedMetricWarning: Precision and F-score are ill-defined and being set to 0.0 in labels with no predicted samples. Use `zero_division` parameter to control this behavior.\n",
            "  _warn_prf(average, modifier, msg_start, len(result))\n"
          ]
        }
      ],
      "source": [
        "print(classification_report(y_test,y_test_predicted_lr))"
      ]
    },
    {
      "cell_type": "markdown",
      "source": [
        "### Using SMOTE for the oversampling"
      ],
      "metadata": {
        "id": "ki0t38fXYbUS"
      }
    },
    {
      "cell_type": "code",
      "source": [
        "lr_model_smote = LogisticRegression().fit(x_train_smote, y_train_smote)"
      ],
      "metadata": {
        "id": "KICTWQFfSI4P",
        "colab": {
          "base_uri": "https://localhost:8080/"
        },
        "outputId": "859b51ae-0991-456d-8405-f35242630136"
      },
      "execution_count": 74,
      "outputs": [
        {
          "output_type": "stream",
          "name": "stderr",
          "text": [
            "/usr/local/lib/python3.10/dist-packages/sklearn/linear_model/_logistic.py:458: ConvergenceWarning: lbfgs failed to converge (status=1):\n",
            "STOP: TOTAL NO. of ITERATIONS REACHED LIMIT.\n",
            "\n",
            "Increase the number of iterations (max_iter) or scale the data as shown in:\n",
            "    https://scikit-learn.org/stable/modules/preprocessing.html\n",
            "Please also refer to the documentation for alternative solver options:\n",
            "    https://scikit-learn.org/stable/modules/linear_model.html#logistic-regression\n",
            "  n_iter_i = _check_optimize_result(\n"
          ]
        }
      ]
    },
    {
      "cell_type": "code",
      "source": [
        "y_test_pred_lr_smote = lr_model_smote.predict(X_test)"
      ],
      "metadata": {
        "id": "AxObZyDl3flv"
      },
      "execution_count": 75,
      "outputs": []
    },
    {
      "cell_type": "code",
      "source": [
        "print(classification_report(y_test,y_test_pred_lr_smote))"
      ],
      "metadata": {
        "id": "4K6ASTaB3oei",
        "colab": {
          "base_uri": "https://localhost:8080/"
        },
        "outputId": "476f7c67-8f2f-4f8b-cf00-6e414b601aed"
      },
      "execution_count": 76,
      "outputs": [
        {
          "output_type": "stream",
          "name": "stdout",
          "text": [
            "              precision    recall  f1-score   support\n",
            "\n",
            "           3       0.08      0.21      0.12       145\n",
            "           4       0.92      0.63      0.75      2032\n",
            "           5       0.03      0.38      0.06        37\n",
            "\n",
            "    accuracy                           0.60      2214\n",
            "   macro avg       0.34      0.41      0.31      2214\n",
            "weighted avg       0.85      0.60      0.69      2214\n",
            "\n"
          ]
        }
      ]
    },
    {
      "cell_type": "markdown",
      "metadata": {
        "id": "wrXLeD8xGLpj"
      },
      "source": [
        "## **Non Linear model :  Random Forest**"
      ]
    },
    {
      "cell_type": "code",
      "source": [
        "from sklearn.ensemble import RandomForestClassifier"
      ],
      "metadata": {
        "id": "75ukwjJtGP8x"
      },
      "execution_count": 77,
      "outputs": []
    },
    {
      "cell_type": "code",
      "source": [
        "# initialize Random Forest classifier\n",
        "rf_model = RandomForestClassifier()"
      ],
      "metadata": {
        "id": "SHlhEhqSGTrw"
      },
      "execution_count": 78,
      "outputs": []
    },
    {
      "cell_type": "code",
      "source": [
        "# train classifier\n",
        "rf_model.fit(X_train,y_train)"
      ],
      "metadata": {
        "id": "ShZvn1uYGVNv",
        "colab": {
          "base_uri": "https://localhost:8080/",
          "height": 74
        },
        "outputId": "5b429d54-cf44-4a22-833f-b446d6588953"
      },
      "execution_count": 79,
      "outputs": [
        {
          "output_type": "execute_result",
          "data": {
            "text/plain": [
              "RandomForestClassifier()"
            ],
            "text/html": [
              "<style>#sk-container-id-2 {color: black;background-color: white;}#sk-container-id-2 pre{padding: 0;}#sk-container-id-2 div.sk-toggleable {background-color: white;}#sk-container-id-2 label.sk-toggleable__label {cursor: pointer;display: block;width: 100%;margin-bottom: 0;padding: 0.3em;box-sizing: border-box;text-align: center;}#sk-container-id-2 label.sk-toggleable__label-arrow:before {content: \"▸\";float: left;margin-right: 0.25em;color: #696969;}#sk-container-id-2 label.sk-toggleable__label-arrow:hover:before {color: black;}#sk-container-id-2 div.sk-estimator:hover label.sk-toggleable__label-arrow:before {color: black;}#sk-container-id-2 div.sk-toggleable__content {max-height: 0;max-width: 0;overflow: hidden;text-align: left;background-color: #f0f8ff;}#sk-container-id-2 div.sk-toggleable__content pre {margin: 0.2em;color: black;border-radius: 0.25em;background-color: #f0f8ff;}#sk-container-id-2 input.sk-toggleable__control:checked~div.sk-toggleable__content {max-height: 200px;max-width: 100%;overflow: auto;}#sk-container-id-2 input.sk-toggleable__control:checked~label.sk-toggleable__label-arrow:before {content: \"▾\";}#sk-container-id-2 div.sk-estimator input.sk-toggleable__control:checked~label.sk-toggleable__label {background-color: #d4ebff;}#sk-container-id-2 div.sk-label input.sk-toggleable__control:checked~label.sk-toggleable__label {background-color: #d4ebff;}#sk-container-id-2 input.sk-hidden--visually {border: 0;clip: rect(1px 1px 1px 1px);clip: rect(1px, 1px, 1px, 1px);height: 1px;margin: -1px;overflow: hidden;padding: 0;position: absolute;width: 1px;}#sk-container-id-2 div.sk-estimator {font-family: monospace;background-color: #f0f8ff;border: 1px dotted black;border-radius: 0.25em;box-sizing: border-box;margin-bottom: 0.5em;}#sk-container-id-2 div.sk-estimator:hover {background-color: #d4ebff;}#sk-container-id-2 div.sk-parallel-item::after {content: \"\";width: 100%;border-bottom: 1px solid gray;flex-grow: 1;}#sk-container-id-2 div.sk-label:hover label.sk-toggleable__label {background-color: #d4ebff;}#sk-container-id-2 div.sk-serial::before {content: \"\";position: absolute;border-left: 1px solid gray;box-sizing: border-box;top: 0;bottom: 0;left: 50%;z-index: 0;}#sk-container-id-2 div.sk-serial {display: flex;flex-direction: column;align-items: center;background-color: white;padding-right: 0.2em;padding-left: 0.2em;position: relative;}#sk-container-id-2 div.sk-item {position: relative;z-index: 1;}#sk-container-id-2 div.sk-parallel {display: flex;align-items: stretch;justify-content: center;background-color: white;position: relative;}#sk-container-id-2 div.sk-item::before, #sk-container-id-2 div.sk-parallel-item::before {content: \"\";position: absolute;border-left: 1px solid gray;box-sizing: border-box;top: 0;bottom: 0;left: 50%;z-index: -1;}#sk-container-id-2 div.sk-parallel-item {display: flex;flex-direction: column;z-index: 1;position: relative;background-color: white;}#sk-container-id-2 div.sk-parallel-item:first-child::after {align-self: flex-end;width: 50%;}#sk-container-id-2 div.sk-parallel-item:last-child::after {align-self: flex-start;width: 50%;}#sk-container-id-2 div.sk-parallel-item:only-child::after {width: 0;}#sk-container-id-2 div.sk-dashed-wrapped {border: 1px dashed gray;margin: 0 0.4em 0.5em 0.4em;box-sizing: border-box;padding-bottom: 0.4em;background-color: white;}#sk-container-id-2 div.sk-label label {font-family: monospace;font-weight: bold;display: inline-block;line-height: 1.2em;}#sk-container-id-2 div.sk-label-container {text-align: center;}#sk-container-id-2 div.sk-container {/* jupyter's `normalize.less` sets `[hidden] { display: none; }` but bootstrap.min.css set `[hidden] { display: none !important; }` so we also need the `!important` here to be able to override the default hidden behavior on the sphinx rendered scikit-learn.org. See: https://github.com/scikit-learn/scikit-learn/issues/21755 */display: inline-block !important;position: relative;}#sk-container-id-2 div.sk-text-repr-fallback {display: none;}</style><div id=\"sk-container-id-2\" class=\"sk-top-container\"><div class=\"sk-text-repr-fallback\"><pre>RandomForestClassifier()</pre><b>In a Jupyter environment, please rerun this cell to show the HTML representation or trust the notebook. <br />On GitHub, the HTML representation is unable to render, please try loading this page with nbviewer.org.</b></div><div class=\"sk-container\" hidden><div class=\"sk-item\"><div class=\"sk-estimator sk-toggleable\"><input class=\"sk-toggleable__control sk-hidden--visually\" id=\"sk-estimator-id-2\" type=\"checkbox\" checked><label for=\"sk-estimator-id-2\" class=\"sk-toggleable__label sk-toggleable__label-arrow\">RandomForestClassifier</label><div class=\"sk-toggleable__content\"><pre>RandomForestClassifier()</pre></div></div></div></div></div>"
            ]
          },
          "metadata": {},
          "execution_count": 79
        }
      ]
    },
    {
      "cell_type": "markdown",
      "metadata": {
        "id": "8Cn-3OlHgcG_"
      },
      "source": [
        "### Model evaluation\n"
      ]
    },
    {
      "cell_type": "code",
      "source": [
        "# predict on test data\n",
        "Y_pred_rf = rf_model.predict(X_test)"
      ],
      "metadata": {
        "id": "ZjbaORo-GeV5"
      },
      "execution_count": 80,
      "outputs": []
    },
    {
      "cell_type": "code",
      "source": [
        "print(classification_report(y_test,Y_pred_rf))"
      ],
      "metadata": {
        "id": "LK5GjqQQGga0",
        "colab": {
          "base_uri": "https://localhost:8080/"
        },
        "outputId": "97205d02-2561-4205-ab6a-4c70bfadf73c"
      },
      "execution_count": 81,
      "outputs": [
        {
          "output_type": "stream",
          "name": "stdout",
          "text": [
            "              precision    recall  f1-score   support\n",
            "\n",
            "           3       0.83      0.48      0.61       145\n",
            "           4       0.95      0.99      0.97      2032\n",
            "           5       0.77      0.46      0.58        37\n",
            "\n",
            "    accuracy                           0.95      2214\n",
            "   macro avg       0.85      0.64      0.72      2214\n",
            "weighted avg       0.94      0.95      0.94      2214\n",
            "\n"
          ]
        }
      ]
    },
    {
      "cell_type": "markdown",
      "source": [
        "### Using SMOTE for the oversampling"
      ],
      "metadata": {
        "id": "TqyP492zgmyc"
      }
    },
    {
      "cell_type": "code",
      "source": [
        "from sklearn.ensemble import RandomForestClassifier"
      ],
      "metadata": {
        "id": "fNHUYeWfhY0q"
      },
      "execution_count": 82,
      "outputs": []
    },
    {
      "cell_type": "code",
      "source": [
        "# initialize Random Forest classifier\n",
        "rf_model_smote = RandomForestClassifier()"
      ],
      "metadata": {
        "id": "StipHwkkhY0t"
      },
      "execution_count": 83,
      "outputs": []
    },
    {
      "cell_type": "code",
      "source": [
        "# train classifier\n",
        "rf_model_smote.fit(x_train_smote,y_train_smote)"
      ],
      "metadata": {
        "id": "Mz1Y3vBxhY0v",
        "colab": {
          "base_uri": "https://localhost:8080/",
          "height": 74
        },
        "outputId": "132c23d8-a8fe-402b-9514-3d1addce6d4a"
      },
      "execution_count": 84,
      "outputs": [
        {
          "output_type": "execute_result",
          "data": {
            "text/plain": [
              "RandomForestClassifier()"
            ],
            "text/html": [
              "<style>#sk-container-id-3 {color: black;background-color: white;}#sk-container-id-3 pre{padding: 0;}#sk-container-id-3 div.sk-toggleable {background-color: white;}#sk-container-id-3 label.sk-toggleable__label {cursor: pointer;display: block;width: 100%;margin-bottom: 0;padding: 0.3em;box-sizing: border-box;text-align: center;}#sk-container-id-3 label.sk-toggleable__label-arrow:before {content: \"▸\";float: left;margin-right: 0.25em;color: #696969;}#sk-container-id-3 label.sk-toggleable__label-arrow:hover:before {color: black;}#sk-container-id-3 div.sk-estimator:hover label.sk-toggleable__label-arrow:before {color: black;}#sk-container-id-3 div.sk-toggleable__content {max-height: 0;max-width: 0;overflow: hidden;text-align: left;background-color: #f0f8ff;}#sk-container-id-3 div.sk-toggleable__content pre {margin: 0.2em;color: black;border-radius: 0.25em;background-color: #f0f8ff;}#sk-container-id-3 input.sk-toggleable__control:checked~div.sk-toggleable__content {max-height: 200px;max-width: 100%;overflow: auto;}#sk-container-id-3 input.sk-toggleable__control:checked~label.sk-toggleable__label-arrow:before {content: \"▾\";}#sk-container-id-3 div.sk-estimator input.sk-toggleable__control:checked~label.sk-toggleable__label {background-color: #d4ebff;}#sk-container-id-3 div.sk-label input.sk-toggleable__control:checked~label.sk-toggleable__label {background-color: #d4ebff;}#sk-container-id-3 input.sk-hidden--visually {border: 0;clip: rect(1px 1px 1px 1px);clip: rect(1px, 1px, 1px, 1px);height: 1px;margin: -1px;overflow: hidden;padding: 0;position: absolute;width: 1px;}#sk-container-id-3 div.sk-estimator {font-family: monospace;background-color: #f0f8ff;border: 1px dotted black;border-radius: 0.25em;box-sizing: border-box;margin-bottom: 0.5em;}#sk-container-id-3 div.sk-estimator:hover {background-color: #d4ebff;}#sk-container-id-3 div.sk-parallel-item::after {content: \"\";width: 100%;border-bottom: 1px solid gray;flex-grow: 1;}#sk-container-id-3 div.sk-label:hover label.sk-toggleable__label {background-color: #d4ebff;}#sk-container-id-3 div.sk-serial::before {content: \"\";position: absolute;border-left: 1px solid gray;box-sizing: border-box;top: 0;bottom: 0;left: 50%;z-index: 0;}#sk-container-id-3 div.sk-serial {display: flex;flex-direction: column;align-items: center;background-color: white;padding-right: 0.2em;padding-left: 0.2em;position: relative;}#sk-container-id-3 div.sk-item {position: relative;z-index: 1;}#sk-container-id-3 div.sk-parallel {display: flex;align-items: stretch;justify-content: center;background-color: white;position: relative;}#sk-container-id-3 div.sk-item::before, #sk-container-id-3 div.sk-parallel-item::before {content: \"\";position: absolute;border-left: 1px solid gray;box-sizing: border-box;top: 0;bottom: 0;left: 50%;z-index: -1;}#sk-container-id-3 div.sk-parallel-item {display: flex;flex-direction: column;z-index: 1;position: relative;background-color: white;}#sk-container-id-3 div.sk-parallel-item:first-child::after {align-self: flex-end;width: 50%;}#sk-container-id-3 div.sk-parallel-item:last-child::after {align-self: flex-start;width: 50%;}#sk-container-id-3 div.sk-parallel-item:only-child::after {width: 0;}#sk-container-id-3 div.sk-dashed-wrapped {border: 1px dashed gray;margin: 0 0.4em 0.5em 0.4em;box-sizing: border-box;padding-bottom: 0.4em;background-color: white;}#sk-container-id-3 div.sk-label label {font-family: monospace;font-weight: bold;display: inline-block;line-height: 1.2em;}#sk-container-id-3 div.sk-label-container {text-align: center;}#sk-container-id-3 div.sk-container {/* jupyter's `normalize.less` sets `[hidden] { display: none; }` but bootstrap.min.css set `[hidden] { display: none !important; }` so we also need the `!important` here to be able to override the default hidden behavior on the sphinx rendered scikit-learn.org. See: https://github.com/scikit-learn/scikit-learn/issues/21755 */display: inline-block !important;position: relative;}#sk-container-id-3 div.sk-text-repr-fallback {display: none;}</style><div id=\"sk-container-id-3\" class=\"sk-top-container\"><div class=\"sk-text-repr-fallback\"><pre>RandomForestClassifier()</pre><b>In a Jupyter environment, please rerun this cell to show the HTML representation or trust the notebook. <br />On GitHub, the HTML representation is unable to render, please try loading this page with nbviewer.org.</b></div><div class=\"sk-container\" hidden><div class=\"sk-item\"><div class=\"sk-estimator sk-toggleable\"><input class=\"sk-toggleable__control sk-hidden--visually\" id=\"sk-estimator-id-3\" type=\"checkbox\" checked><label for=\"sk-estimator-id-3\" class=\"sk-toggleable__label sk-toggleable__label-arrow\">RandomForestClassifier</label><div class=\"sk-toggleable__content\"><pre>RandomForestClassifier()</pre></div></div></div></div></div>"
            ]
          },
          "metadata": {},
          "execution_count": 84
        }
      ]
    },
    {
      "cell_type": "code",
      "source": [
        "y_test_pred_rf_smote = rf_model_smote.predict(X_test)"
      ],
      "metadata": {
        "id": "bWv621f6g-FT"
      },
      "execution_count": 85,
      "outputs": []
    },
    {
      "cell_type": "code",
      "source": [
        "print(classification_report(y_test,y_test_pred_rf_smote))"
      ],
      "metadata": {
        "id": "kkq6H1sHgmyk",
        "colab": {
          "base_uri": "https://localhost:8080/"
        },
        "outputId": "42a9aac5-4023-428e-b037-475af7343167"
      },
      "execution_count": 86,
      "outputs": [
        {
          "output_type": "stream",
          "name": "stdout",
          "text": [
            "              precision    recall  f1-score   support\n",
            "\n",
            "           3       0.44      0.66      0.52       145\n",
            "           4       0.97      0.92      0.94      2032\n",
            "           5       0.39      0.70      0.50        37\n",
            "\n",
            "    accuracy                           0.90      2214\n",
            "   macro avg       0.60      0.76      0.66      2214\n",
            "weighted avg       0.92      0.90      0.91      2214\n",
            "\n"
          ]
        }
      ]
    },
    {
      "cell_type": "markdown",
      "metadata": {
        "id": "rRLiv2acH4Wm"
      },
      "source": [
        "## **Non Linear model :  MLP  (Multi-Layer Perceptron classifier)**"
      ]
    },
    {
      "cell_type": "code",
      "source": [
        "from sklearn.neural_network import MLPClassifier"
      ],
      "metadata": {
        "id": "O2kuFuYFIBAd"
      },
      "execution_count": 87,
      "outputs": []
    },
    {
      "cell_type": "code",
      "source": [
        "# try a new classifier: Multi-Layer Perceptron classifier\n",
        "mlp_model = MLPClassifier(hidden_layer_sizes=(20,10),max_iter=1000)\n",
        "\n",
        "\n",
        "# In our first layer we have 20 neurons (20 nodes) and in the second one we have 10 nodes. I chose this randomly. You can change them and try different configurations\n",
        "#The Max iteration  means how many times I want my neural network to run : 1000 times because I don't want to kill my PC"
      ],
      "metadata": {
        "id": "qG5wCxdZIEiC"
      },
      "execution_count": 88,
      "outputs": []
    },
    {
      "cell_type": "code",
      "source": [
        "mlp_model.fit(X=X_train,y=y_train)"
      ],
      "metadata": {
        "id": "YZqVG7v5IMvV",
        "colab": {
          "base_uri": "https://localhost:8080/",
          "height": 74
        },
        "outputId": "3a1ff7e6-ab56-4612-e0f8-238d6dd635b0"
      },
      "execution_count": 89,
      "outputs": [
        {
          "output_type": "execute_result",
          "data": {
            "text/plain": [
              "MLPClassifier(hidden_layer_sizes=(20, 10), max_iter=1000)"
            ],
            "text/html": [
              "<style>#sk-container-id-4 {color: black;background-color: white;}#sk-container-id-4 pre{padding: 0;}#sk-container-id-4 div.sk-toggleable {background-color: white;}#sk-container-id-4 label.sk-toggleable__label {cursor: pointer;display: block;width: 100%;margin-bottom: 0;padding: 0.3em;box-sizing: border-box;text-align: center;}#sk-container-id-4 label.sk-toggleable__label-arrow:before {content: \"▸\";float: left;margin-right: 0.25em;color: #696969;}#sk-container-id-4 label.sk-toggleable__label-arrow:hover:before {color: black;}#sk-container-id-4 div.sk-estimator:hover label.sk-toggleable__label-arrow:before {color: black;}#sk-container-id-4 div.sk-toggleable__content {max-height: 0;max-width: 0;overflow: hidden;text-align: left;background-color: #f0f8ff;}#sk-container-id-4 div.sk-toggleable__content pre {margin: 0.2em;color: black;border-radius: 0.25em;background-color: #f0f8ff;}#sk-container-id-4 input.sk-toggleable__control:checked~div.sk-toggleable__content {max-height: 200px;max-width: 100%;overflow: auto;}#sk-container-id-4 input.sk-toggleable__control:checked~label.sk-toggleable__label-arrow:before {content: \"▾\";}#sk-container-id-4 div.sk-estimator input.sk-toggleable__control:checked~label.sk-toggleable__label {background-color: #d4ebff;}#sk-container-id-4 div.sk-label input.sk-toggleable__control:checked~label.sk-toggleable__label {background-color: #d4ebff;}#sk-container-id-4 input.sk-hidden--visually {border: 0;clip: rect(1px 1px 1px 1px);clip: rect(1px, 1px, 1px, 1px);height: 1px;margin: -1px;overflow: hidden;padding: 0;position: absolute;width: 1px;}#sk-container-id-4 div.sk-estimator {font-family: monospace;background-color: #f0f8ff;border: 1px dotted black;border-radius: 0.25em;box-sizing: border-box;margin-bottom: 0.5em;}#sk-container-id-4 div.sk-estimator:hover {background-color: #d4ebff;}#sk-container-id-4 div.sk-parallel-item::after {content: \"\";width: 100%;border-bottom: 1px solid gray;flex-grow: 1;}#sk-container-id-4 div.sk-label:hover label.sk-toggleable__label {background-color: #d4ebff;}#sk-container-id-4 div.sk-serial::before {content: \"\";position: absolute;border-left: 1px solid gray;box-sizing: border-box;top: 0;bottom: 0;left: 50%;z-index: 0;}#sk-container-id-4 div.sk-serial {display: flex;flex-direction: column;align-items: center;background-color: white;padding-right: 0.2em;padding-left: 0.2em;position: relative;}#sk-container-id-4 div.sk-item {position: relative;z-index: 1;}#sk-container-id-4 div.sk-parallel {display: flex;align-items: stretch;justify-content: center;background-color: white;position: relative;}#sk-container-id-4 div.sk-item::before, #sk-container-id-4 div.sk-parallel-item::before {content: \"\";position: absolute;border-left: 1px solid gray;box-sizing: border-box;top: 0;bottom: 0;left: 50%;z-index: -1;}#sk-container-id-4 div.sk-parallel-item {display: flex;flex-direction: column;z-index: 1;position: relative;background-color: white;}#sk-container-id-4 div.sk-parallel-item:first-child::after {align-self: flex-end;width: 50%;}#sk-container-id-4 div.sk-parallel-item:last-child::after {align-self: flex-start;width: 50%;}#sk-container-id-4 div.sk-parallel-item:only-child::after {width: 0;}#sk-container-id-4 div.sk-dashed-wrapped {border: 1px dashed gray;margin: 0 0.4em 0.5em 0.4em;box-sizing: border-box;padding-bottom: 0.4em;background-color: white;}#sk-container-id-4 div.sk-label label {font-family: monospace;font-weight: bold;display: inline-block;line-height: 1.2em;}#sk-container-id-4 div.sk-label-container {text-align: center;}#sk-container-id-4 div.sk-container {/* jupyter's `normalize.less` sets `[hidden] { display: none; }` but bootstrap.min.css set `[hidden] { display: none !important; }` so we also need the `!important` here to be able to override the default hidden behavior on the sphinx rendered scikit-learn.org. See: https://github.com/scikit-learn/scikit-learn/issues/21755 */display: inline-block !important;position: relative;}#sk-container-id-4 div.sk-text-repr-fallback {display: none;}</style><div id=\"sk-container-id-4\" class=\"sk-top-container\"><div class=\"sk-text-repr-fallback\"><pre>MLPClassifier(hidden_layer_sizes=(20, 10), max_iter=1000)</pre><b>In a Jupyter environment, please rerun this cell to show the HTML representation or trust the notebook. <br />On GitHub, the HTML representation is unable to render, please try loading this page with nbviewer.org.</b></div><div class=\"sk-container\" hidden><div class=\"sk-item\"><div class=\"sk-estimator sk-toggleable\"><input class=\"sk-toggleable__control sk-hidden--visually\" id=\"sk-estimator-id-4\" type=\"checkbox\" checked><label for=\"sk-estimator-id-4\" class=\"sk-toggleable__label sk-toggleable__label-arrow\">MLPClassifier</label><div class=\"sk-toggleable__content\"><pre>MLPClassifier(hidden_layer_sizes=(20, 10), max_iter=1000)</pre></div></div></div></div></div>"
            ]
          },
          "metadata": {},
          "execution_count": 89
        }
      ]
    },
    {
      "cell_type": "markdown",
      "metadata": {
        "id": "4mGPDIJ_huwU"
      },
      "source": [
        "### Model evaluation\n"
      ]
    },
    {
      "cell_type": "code",
      "source": [
        "y_test_predicted_mlp = mlp_model.predict(X_test)"
      ],
      "metadata": {
        "id": "YDC3e62RIQas"
      },
      "execution_count": 90,
      "outputs": []
    },
    {
      "cell_type": "code",
      "source": [
        "print(classification_report(y_test,y_test_predicted_mlp))"
      ],
      "metadata": {
        "id": "nE1fiibkIUGh",
        "colab": {
          "base_uri": "https://localhost:8080/"
        },
        "outputId": "581300ca-8e4a-4e7c-94fa-153e46876d35"
      },
      "execution_count": 91,
      "outputs": [
        {
          "output_type": "stream",
          "name": "stdout",
          "text": [
            "              precision    recall  f1-score   support\n",
            "\n",
            "           3       1.00      0.01      0.01       145\n",
            "           4       0.92      1.00      0.96      2032\n",
            "           5       0.00      0.00      0.00        37\n",
            "\n",
            "    accuracy                           0.92      2214\n",
            "   macro avg       0.64      0.34      0.32      2214\n",
            "weighted avg       0.91      0.92      0.88      2214\n",
            "\n"
          ]
        },
        {
          "output_type": "stream",
          "name": "stderr",
          "text": [
            "/usr/local/lib/python3.10/dist-packages/sklearn/metrics/_classification.py:1344: UndefinedMetricWarning: Precision and F-score are ill-defined and being set to 0.0 in labels with no predicted samples. Use `zero_division` parameter to control this behavior.\n",
            "  _warn_prf(average, modifier, msg_start, len(result))\n",
            "/usr/local/lib/python3.10/dist-packages/sklearn/metrics/_classification.py:1344: UndefinedMetricWarning: Precision and F-score are ill-defined and being set to 0.0 in labels with no predicted samples. Use `zero_division` parameter to control this behavior.\n",
            "  _warn_prf(average, modifier, msg_start, len(result))\n",
            "/usr/local/lib/python3.10/dist-packages/sklearn/metrics/_classification.py:1344: UndefinedMetricWarning: Precision and F-score are ill-defined and being set to 0.0 in labels with no predicted samples. Use `zero_division` parameter to control this behavior.\n",
            "  _warn_prf(average, modifier, msg_start, len(result))\n"
          ]
        }
      ]
    },
    {
      "cell_type": "markdown",
      "source": [
        "### Using SMOTE for the oversampling"
      ],
      "metadata": {
        "id": "MQPNJMijhw6r"
      }
    },
    {
      "cell_type": "code",
      "source": [
        "from sklearn.neural_network import MLPClassifier"
      ],
      "metadata": {
        "id": "56mJO9OZhzJu"
      },
      "execution_count": 92,
      "outputs": []
    },
    {
      "cell_type": "code",
      "source": [
        "mlp_model_smote = MLPClassifier(hidden_layer_sizes=(20,10),max_iter=1000)"
      ],
      "metadata": {
        "id": "_2OmQOAvhzJw"
      },
      "execution_count": 93,
      "outputs": []
    },
    {
      "cell_type": "code",
      "source": [
        "mlp_model_smote.fit(X=x_train_smote,y=y_train_smote)"
      ],
      "metadata": {
        "id": "4GcFx42BhzJw",
        "colab": {
          "base_uri": "https://localhost:8080/",
          "height": 74
        },
        "outputId": "a5717c94-2391-4d3e-c647-5a914958f40c"
      },
      "execution_count": 94,
      "outputs": [
        {
          "output_type": "execute_result",
          "data": {
            "text/plain": [
              "MLPClassifier(hidden_layer_sizes=(20, 10), max_iter=1000)"
            ],
            "text/html": [
              "<style>#sk-container-id-5 {color: black;background-color: white;}#sk-container-id-5 pre{padding: 0;}#sk-container-id-5 div.sk-toggleable {background-color: white;}#sk-container-id-5 label.sk-toggleable__label {cursor: pointer;display: block;width: 100%;margin-bottom: 0;padding: 0.3em;box-sizing: border-box;text-align: center;}#sk-container-id-5 label.sk-toggleable__label-arrow:before {content: \"▸\";float: left;margin-right: 0.25em;color: #696969;}#sk-container-id-5 label.sk-toggleable__label-arrow:hover:before {color: black;}#sk-container-id-5 div.sk-estimator:hover label.sk-toggleable__label-arrow:before {color: black;}#sk-container-id-5 div.sk-toggleable__content {max-height: 0;max-width: 0;overflow: hidden;text-align: left;background-color: #f0f8ff;}#sk-container-id-5 div.sk-toggleable__content pre {margin: 0.2em;color: black;border-radius: 0.25em;background-color: #f0f8ff;}#sk-container-id-5 input.sk-toggleable__control:checked~div.sk-toggleable__content {max-height: 200px;max-width: 100%;overflow: auto;}#sk-container-id-5 input.sk-toggleable__control:checked~label.sk-toggleable__label-arrow:before {content: \"▾\";}#sk-container-id-5 div.sk-estimator input.sk-toggleable__control:checked~label.sk-toggleable__label {background-color: #d4ebff;}#sk-container-id-5 div.sk-label input.sk-toggleable__control:checked~label.sk-toggleable__label {background-color: #d4ebff;}#sk-container-id-5 input.sk-hidden--visually {border: 0;clip: rect(1px 1px 1px 1px);clip: rect(1px, 1px, 1px, 1px);height: 1px;margin: -1px;overflow: hidden;padding: 0;position: absolute;width: 1px;}#sk-container-id-5 div.sk-estimator {font-family: monospace;background-color: #f0f8ff;border: 1px dotted black;border-radius: 0.25em;box-sizing: border-box;margin-bottom: 0.5em;}#sk-container-id-5 div.sk-estimator:hover {background-color: #d4ebff;}#sk-container-id-5 div.sk-parallel-item::after {content: \"\";width: 100%;border-bottom: 1px solid gray;flex-grow: 1;}#sk-container-id-5 div.sk-label:hover label.sk-toggleable__label {background-color: #d4ebff;}#sk-container-id-5 div.sk-serial::before {content: \"\";position: absolute;border-left: 1px solid gray;box-sizing: border-box;top: 0;bottom: 0;left: 50%;z-index: 0;}#sk-container-id-5 div.sk-serial {display: flex;flex-direction: column;align-items: center;background-color: white;padding-right: 0.2em;padding-left: 0.2em;position: relative;}#sk-container-id-5 div.sk-item {position: relative;z-index: 1;}#sk-container-id-5 div.sk-parallel {display: flex;align-items: stretch;justify-content: center;background-color: white;position: relative;}#sk-container-id-5 div.sk-item::before, #sk-container-id-5 div.sk-parallel-item::before {content: \"\";position: absolute;border-left: 1px solid gray;box-sizing: border-box;top: 0;bottom: 0;left: 50%;z-index: -1;}#sk-container-id-5 div.sk-parallel-item {display: flex;flex-direction: column;z-index: 1;position: relative;background-color: white;}#sk-container-id-5 div.sk-parallel-item:first-child::after {align-self: flex-end;width: 50%;}#sk-container-id-5 div.sk-parallel-item:last-child::after {align-self: flex-start;width: 50%;}#sk-container-id-5 div.sk-parallel-item:only-child::after {width: 0;}#sk-container-id-5 div.sk-dashed-wrapped {border: 1px dashed gray;margin: 0 0.4em 0.5em 0.4em;box-sizing: border-box;padding-bottom: 0.4em;background-color: white;}#sk-container-id-5 div.sk-label label {font-family: monospace;font-weight: bold;display: inline-block;line-height: 1.2em;}#sk-container-id-5 div.sk-label-container {text-align: center;}#sk-container-id-5 div.sk-container {/* jupyter's `normalize.less` sets `[hidden] { display: none; }` but bootstrap.min.css set `[hidden] { display: none !important; }` so we also need the `!important` here to be able to override the default hidden behavior on the sphinx rendered scikit-learn.org. See: https://github.com/scikit-learn/scikit-learn/issues/21755 */display: inline-block !important;position: relative;}#sk-container-id-5 div.sk-text-repr-fallback {display: none;}</style><div id=\"sk-container-id-5\" class=\"sk-top-container\"><div class=\"sk-text-repr-fallback\"><pre>MLPClassifier(hidden_layer_sizes=(20, 10), max_iter=1000)</pre><b>In a Jupyter environment, please rerun this cell to show the HTML representation or trust the notebook. <br />On GitHub, the HTML representation is unable to render, please try loading this page with nbviewer.org.</b></div><div class=\"sk-container\" hidden><div class=\"sk-item\"><div class=\"sk-estimator sk-toggleable\"><input class=\"sk-toggleable__control sk-hidden--visually\" id=\"sk-estimator-id-5\" type=\"checkbox\" checked><label for=\"sk-estimator-id-5\" class=\"sk-toggleable__label sk-toggleable__label-arrow\">MLPClassifier</label><div class=\"sk-toggleable__content\"><pre>MLPClassifier(hidden_layer_sizes=(20, 10), max_iter=1000)</pre></div></div></div></div></div>"
            ]
          },
          "metadata": {},
          "execution_count": 94
        }
      ]
    },
    {
      "cell_type": "code",
      "source": [
        "y_test_pred_mlp_smote = mlp_model_smote.predict(X_test)"
      ],
      "metadata": {
        "id": "2LakqL0Uhw6x"
      },
      "execution_count": 95,
      "outputs": []
    },
    {
      "cell_type": "code",
      "source": [
        "print(classification_report(y_test,y_test_pred_mlp_smote))"
      ],
      "metadata": {
        "id": "v6VXg0Iphw6y",
        "colab": {
          "base_uri": "https://localhost:8080/"
        },
        "outputId": "743d07f9-c602-4d05-9bb4-6bac1dc47278"
      },
      "execution_count": 96,
      "outputs": [
        {
          "output_type": "stream",
          "name": "stdout",
          "text": [
            "              precision    recall  f1-score   support\n",
            "\n",
            "           3       0.26      0.46      0.33       145\n",
            "           4       0.95      0.76      0.84      2032\n",
            "           5       0.07      0.65      0.13        37\n",
            "\n",
            "    accuracy                           0.73      2214\n",
            "   macro avg       0.43      0.62      0.43      2214\n",
            "weighted avg       0.89      0.73      0.80      2214\n",
            "\n"
          ]
        }
      ]
    }
  ],
  "metadata": {
    "kernelspec": {
      "display_name": "Python 3",
      "language": "python",
      "name": "python3"
    },
    "language_info": {
      "codemirror_mode": {
        "name": "ipython",
        "version": 2
      },
      "file_extension": ".py",
      "mimetype": "text/x-python",
      "name": "python",
      "nbconvert_exporter": "python",
      "pygments_lexer": "ipython2",
      "version": "2.7.6"
    },
    "colab": {
      "provenance": []
    }
  },
  "nbformat": 4,
  "nbformat_minor": 0
}